{
  "nbformat": 4,
  "nbformat_minor": 0,
  "metadata": {
    "kernelspec": {
      "name": "python3",
      "display_name": "Python 3"
    },
    "language_info": {
      "codemirror_mode": {
        "name": "ipython",
        "version": 3
      },
      "file_extension": ".py",
      "mimetype": "text/x-python",
      "name": "python",
      "nbconvert_exporter": "python",
      "pygments_lexer": "ipython3",
      "version": "3.6.7"
    },
    "colab": {
      "name": "Copy of Ansari Jaberi Software Effort Estimation",
      "provenance": [],
      "collapsed_sections": [],
      "include_colab_link": true
    }
  },
  "cells": [
    {
      "cell_type": "markdown",
      "metadata": {
        "id": "view-in-github",
        "colab_type": "text"
      },
      "source": [
        "<a href=\"https://colab.research.google.com/github/babakansari/StoryPointsPrediction/blob/master/Copy_of_Ansari_Jaberi_Software_Effort_Estimation.ipynb\" target=\"_parent\"><img src=\"https://colab.research.google.com/assets/colab-badge.svg\" alt=\"Open In Colab\"/></a>"
      ]
    },
    {
      "cell_type": "markdown",
      "metadata": {
        "id": "1XmSxrwywVr9",
        "colab_type": "text"
      },
      "source": [
        "## Author name:\n",
        "\n",
        "<pre> Babak Ansari-Jaberi</pre>\n",
        "<pre> November 2018</pre>"
      ]
    },
    {
      "cell_type": "markdown",
      "metadata": {
        "id": "1RpH21-iwVr-",
        "colab_type": "text"
      },
      "source": [
        "# User Story points(weight) prediction"
      ]
    },
    {
      "cell_type": "markdown",
      "metadata": {
        "id": "vJjZgvyhwVr_",
        "colab_type": "text"
      },
      "source": [
        "### Data Prepration\n",
        "\n",
        "Load data from development tracking software and prepare it for machine learning.\n",
        "\n",
        "The data would include the work item number, the previously predicted weight and columns of required activities (called labels) to be used for training."
      ]
    },
    {
      "cell_type": "code",
      "metadata": {
        "id": "z9Get7zmDRdK",
        "colab_type": "code",
        "outputId": "c30129ba-68ea-4e47-8b42-333c4947d77f",
        "colab": {
          "base_uri": "https://localhost:8080/",
          "height": 578
        }
      },
      "source": [
        "#!pip3 install jira\n",
        "!pip3 install sklearn\n",
        "!pip3 install pandas\n",
        "!pip3 install matplotlib\n",
        "!pip3 install seaborn\n",
        "!pip3 install xlrd \n",
        "!pip3 install nltk"
      ],
      "execution_count": 0,
      "outputs": [
        {
          "output_type": "stream",
          "text": [
            "Requirement already satisfied: sklearn in /usr/local/lib/python3.7/site-packages (0.0)\r\n",
            "Requirement already satisfied: scikit-learn in /usr/local/lib/python3.7/site-packages (from sklearn) (0.21.3)\n",
            "Requirement already satisfied: joblib>=0.11 in /usr/local/lib/python3.7/site-packages (from scikit-learn->sklearn) (0.13.2)\n",
            "Requirement already satisfied: scipy>=0.17.0 in /usr/local/lib/python3.7/site-packages (from scikit-learn->sklearn) (1.3.1)\n",
            "Requirement already satisfied: numpy>=1.11.0 in /usr/local/lib/python3.7/site-packages (from scikit-learn->sklearn) (1.17.2)\n",
            "Requirement already satisfied: pandas in /usr/local/lib/python3.7/site-packages (0.25.1)\n",
            "Requirement already satisfied: pytz>=2017.2 in /usr/local/lib/python3.7/site-packages (from pandas) (2019.2)\n",
            "Requirement already satisfied: python-dateutil>=2.6.1 in /usr/local/lib/python3.7/site-packages (from pandas) (2.8.0)\n",
            "Requirement already satisfied: numpy>=1.13.3 in /usr/local/lib/python3.7/site-packages (from pandas) (1.17.2)\n",
            "Requirement already satisfied: six>=1.5 in /usr/local/lib/python3.7/site-packages (from python-dateutil>=2.6.1->pandas) (1.12.0)\n",
            "Requirement already satisfied: matplotlib in /usr/local/lib/python3.7/site-packages (3.1.1)\n",
            "Requirement already satisfied: kiwisolver>=1.0.1 in /usr/local/lib/python3.7/site-packages (from matplotlib) (1.1.0)\n",
            "Requirement already satisfied: pyparsing!=2.0.4,!=2.1.2,!=2.1.6,>=2.0.1 in /usr/local/lib/python3.7/site-packages (from matplotlib) (2.4.2)\n",
            "Requirement already satisfied: numpy>=1.11 in /usr/local/lib/python3.7/site-packages (from matplotlib) (1.17.2)\n",
            "Requirement already satisfied: python-dateutil>=2.1 in /usr/local/lib/python3.7/site-packages (from matplotlib) (2.8.0)\n",
            "Requirement already satisfied: cycler>=0.10 in /usr/local/lib/python3.7/site-packages (from matplotlib) (0.10.0)\n",
            "Requirement already satisfied: setuptools in /usr/local/lib/python3.7/site-packages (from kiwisolver>=1.0.1->matplotlib) (41.0.1)\n",
            "Requirement already satisfied: six>=1.5 in /usr/local/lib/python3.7/site-packages (from python-dateutil>=2.1->matplotlib) (1.12.0)\n",
            "Requirement already satisfied: seaborn in /usr/local/lib/python3.7/site-packages (0.9.0)\n",
            "Requirement already satisfied: pandas>=0.15.2 in /usr/local/lib/python3.7/site-packages (from seaborn) (0.25.1)\n",
            "Requirement already satisfied: numpy>=1.9.3 in /usr/local/lib/python3.7/site-packages (from seaborn) (1.17.2)\n",
            "Requirement already satisfied: scipy>=0.14.0 in /usr/local/lib/python3.7/site-packages (from seaborn) (1.3.1)\n",
            "Requirement already satisfied: matplotlib>=1.4.3 in /usr/local/lib/python3.7/site-packages (from seaborn) (3.1.1)\n",
            "Requirement already satisfied: pytz>=2017.2 in /usr/local/lib/python3.7/site-packages (from pandas>=0.15.2->seaborn) (2019.2)\n",
            "Requirement already satisfied: python-dateutil>=2.6.1 in /usr/local/lib/python3.7/site-packages (from pandas>=0.15.2->seaborn) (2.8.0)\n",
            "Requirement already satisfied: cycler>=0.10 in /usr/local/lib/python3.7/site-packages (from matplotlib>=1.4.3->seaborn) (0.10.0)\n",
            "Requirement already satisfied: kiwisolver>=1.0.1 in /usr/local/lib/python3.7/site-packages (from matplotlib>=1.4.3->seaborn) (1.1.0)\n",
            "Requirement already satisfied: pyparsing!=2.0.4,!=2.1.2,!=2.1.6,>=2.0.1 in /usr/local/lib/python3.7/site-packages (from matplotlib>=1.4.3->seaborn) (2.4.2)\n",
            "Requirement already satisfied: six>=1.5 in /usr/local/lib/python3.7/site-packages (from python-dateutil>=2.6.1->pandas>=0.15.2->seaborn) (1.12.0)\n",
            "Requirement already satisfied: setuptools in /usr/local/lib/python3.7/site-packages (from kiwisolver>=1.0.1->matplotlib>=1.4.3->seaborn) (41.0.1)\n",
            "Requirement already satisfied: xlrd in /usr/local/lib/python3.7/site-packages (1.2.0)\n",
            "Requirement already satisfied: nltk in /usr/local/lib/python3.7/site-packages (3.4.5)\n",
            "Requirement already satisfied: six in /usr/local/lib/python3.7/site-packages (from nltk) (1.12.0)\n"
          ],
          "name": "stdout"
        }
      ]
    },
    {
      "cell_type": "code",
      "metadata": {
        "id": "PG6iYxqgOZki",
        "colab_type": "code",
        "colab": {}
      },
      "source": [
        "# import pandas as pd\n",
        "# import http.client\n",
        "\n",
        "# url = 'https://github.com/babakansari/StoryPointsPrediction/blob/master/Team1JiraReportMain.xlsx?raw=true'\n",
        "# df1 = pd.read_excel(url, 'User Story Prediction')\n",
        "# df1.head(5)\n",
        "\n",
        "# def exists(site, path):\n",
        "#  conn = http.client.HTTPConnection(site, 80)\n",
        "#  conn.request('HEAD', path)\n",
        "#  response = conn.getresponse()\n",
        "#  conn.close()\n",
        "#  return response.status == 200\n",
        "\n",
        "# if exists('https://github.com', '/babakansari/StoryPointsPrediction/blob/master/Team1JiraReportMain.xlsx?raw=true'):\n",
        "#  print('File exist')"
      ],
      "execution_count": 0,
      "outputs": []
    },
    {
      "cell_type": "code",
      "metadata": {
        "id": "MkT2idmswVsA",
        "colab_type": "code",
        "colab": {}
      },
      "source": [
        "\n",
        "import getpass\n",
        "import pandas as pd\n",
        "import numpy as np\n",
        "import os.path\n",
        "from pandas import ExcelWriter\n",
        "from sklearn.metrics import precision_recall_curve\n",
        "import matplotlib.pyplot as plt\n",
        "from sklearn.metrics import roc_curve, auc\n",
        "from sklearn.model_selection import cross_val_score\n",
        "import seaborn as sns\n",
        "from sklearn.multiclass import OneVsRestClassifier\n",
        "from sklearn.model_selection import train_test_split\n",
        "from sklearn.preprocessing import label_binarize\n",
        "from scipy import interp\n",
        "from itertools import cycle\n",
        "import http.client\n",
        "\n",
        "#file_name = 'Team1JiraReportMain.xlsx'\n",
        "file_name = 'https://github.com/babakansari/StoryPointsPrediction/blob/master/Team1JiraReportMain.xlsx?raw=true'\n",
        "sheetname = 'User Story Prediction'\n",
        "#jiraFileExist = os.path.exists(file_name)\n",
        "\n",
        "#if not jiraFileExist:\n",
        "#    from jira import JIRA\n",
        "#    #input( \"Username: \")\n",
        "#    userName = 'user1@company.com' \n",
        "#    password = getpass.getpass(prompt='Username: '+userName+'\\r\\nPassword: ')\n",
        "\n",
        "#    auth_jira = JIRA(server = 'https://company.atlassian.net', auth=( userName, password ))\n",
        "\n",
        "    # my top 5 issues due by the end of the week, ordered by priority\n",
        "#    oh_crap = auth_jira.search_issues('\"Tech Team\"=\"Team 1\" AND Sprint is not EMPTY AND \"Story Points\" is not EMPTY and labels is not EMPTY order by priority desc', maxResults=1000)\n"
      ],
      "execution_count": 0,
      "outputs": []
    },
    {
      "cell_type": "code",
      "metadata": {
        "id": "XZ0-MJjIwVsD",
        "colab_type": "code",
        "outputId": "ae35eb69-cbc6-440b-9337-3f29ef0b6244",
        "colab": {
          "base_uri": "https://localhost:8080/",
          "height": 34
        }
      },
      "source": [
        "# Read data source to create data frame of the labels\n",
        "# Insert labels into data frame\n",
        "#if not jiraFileExist:\n",
        "#    print(\"Reading from Jira...\")\n",
        "#    pd.options.mode.chained_assignment = None  # default='warn'\n",
        "#    labels_df = pd.DataFrame(columns=['Labels'])\n",
        "#    story_df = pd.DataFrame(columns=['Index', 'Key', 'Summary', 'Points', 'Labels'])\n",
        "#    \n",
        "#    i = 0\n",
        "#    r = 0\n",
        "#    for issue in oh_crap:\n",
        "#        hasMlTag = False\n",
        "#        for label in issue.fields.labels:\n",
        "#            if 'ML-' in label:\n",
        "#                labels_df.loc[i] = [label]\n",
        "#                hasMlTag = True\n",
        "#            i = i + 1\n",
        "#        if hasMlTag:\n",
        "#            story_df.loc[i] = [r, issue.key, issue.fields.summary, issue.fields.customfield_10049, None]\n",
        "#            story_df.at[i, 'Labels'] = issue.fields.labels\n",
        "#            r = r+1\n",
        "\n",
        "#    print(\"Number of records read: \",r)\n",
        "#    labels_df = labels_df.drop_duplicates()\n",
        "#    labels_df = labels_df.set_index('Labels').T\n",
        "    \n",
        "#    combine_df = pd.concat([story_df, labels_df], ignore_index=False)\n",
        "    \n",
        "#    for index, row in combine_df.iterrows():\n",
        "#        #print( row['Key'], row['Points'] )\n",
        "#        for label in row['Labels']:\n",
        "#            if label in labels_df.columns:\n",
        "#                combine_df.loc[index, label] = 1\n",
        "\n",
        "#    df = combine_df.drop(columns=['Labels'])\n",
        "#    df.fillna(0, inplace=True)\n",
        "#    writer = ExcelWriter(file_name)\n",
        "#    df.to_excel(writer,sheetname)\n",
        "#    writer.save()\n",
        "#else:\n",
        "    print(\"Data loaded from file:\",file_name)\n",
        "    df = pd.read_excel(file_name, sheetname)"
      ],
      "execution_count": 0,
      "outputs": [
        {
          "output_type": "stream",
          "text": [
            "Data loaded from file: https://github.com/babakansari/StoryPointsPrediction/blob/master/Team1JiraReportMain.xlsx?raw=true\n"
          ],
          "name": "stdout"
        }
      ]
    },
    {
      "cell_type": "code",
      "metadata": {
        "id": "FkoqfQB8wVsI",
        "colab_type": "code",
        "outputId": "e57cfd6c-6ad0-4200-b982-6b0e95914e3b",
        "colab": {
          "base_uri": "https://localhost:8080/",
          "height": 34
        }
      },
      "source": [
        "df.shape"
      ],
      "execution_count": 0,
      "outputs": [
        {
          "output_type": "execute_result",
          "data": {
            "text/plain": [
              "(92, 18)"
            ]
          },
          "metadata": {
            "tags": []
          },
          "execution_count": 6
        }
      ]
    },
    {
      "cell_type": "markdown",
      "metadata": {
        "id": "r14K9sOjwVsM",
        "colab_type": "text"
      },
      "source": [
        "### Training "
      ]
    },
    {
      "cell_type": "markdown",
      "metadata": {
        "id": "U9kBdIxewVsM",
        "colab_type": "text"
      },
      "source": [
        "Divide data into 70% for training and 40% for testing:"
      ]
    },
    {
      "cell_type": "code",
      "metadata": {
        "id": "TQaE5cQdwVsN",
        "colab_type": "code",
        "outputId": "56cd1505-7fac-454e-c4b6-a7516668688e",
        "colab": {
          "base_uri": "https://localhost:8080/",
          "height": 34
        }
      },
      "source": [
        "from sklearn.model_selection import train_test_split\n",
        "\n",
        "train_set, test_set = train_test_split(df, test_size=0.4, random_state=42)\n",
        "print(len(train_set), \"train +\", len(test_set), \"test\")"
      ],
      "execution_count": 0,
      "outputs": [
        {
          "output_type": "stream",
          "text": [
            "55 train + 37 test\n"
          ],
          "name": "stdout"
        }
      ]
    },
    {
      "cell_type": "markdown",
      "metadata": {
        "id": "9FyJjg9OwVsQ",
        "colab_type": "text"
      },
      "source": [
        "Identify target column and feature variables:"
      ]
    },
    {
      "cell_type": "code",
      "metadata": {
        "id": "8Pt8fy-_wVsR",
        "colab_type": "code",
        "colab": {}
      },
      "source": [
        "target = 'Points'\n",
        "features = list(train_set.columns)\n",
        "features = [f for f in features if f!=target and f!='Index' and f!='Key' and f!='Summary']\n",
        "\n",
        "# Split data into train and test sets\n",
        "X_tr = train_set[features]\n",
        "y_tr = train_set[[target]]\n",
        "\n",
        "X_te = test_set[features]\n",
        "y_te = test_set[[target]]"
      ],
      "execution_count": 0,
      "outputs": []
    },
    {
      "cell_type": "code",
      "metadata": {
        "id": "Dya6W2H1wVsT",
        "colab_type": "code",
        "outputId": "87381e78-604d-412e-d6ef-69e4d10c163c",
        "colab": {
          "base_uri": "https://localhost:8080/",
          "height": 173
        }
      },
      "source": [
        "# Encode points using one hot encoder\n",
        "from sklearn.preprocessing import OneHotEncoder\n",
        "\n",
        "points_tr = train_set[[target]]\n",
        "\n",
        "cat_encoder = OneHotEncoder(sparse=False)\n",
        "\n",
        "points_tr_fit = cat_encoder.fit(points_tr)\n",
        "\n",
        "points_tr_cat = points_tr_fit.transform(points_tr)\n",
        "\n",
        "points_te = test_set[[target]]\n",
        "points_te_cat = cat_encoder.fit_transform(points_te)\n",
        "\n",
        "points_te_cat\n",
        "y_tr = points_tr_cat\n",
        "y_te = points_te_cat\n"
      ],
      "execution_count": 0,
      "outputs": [
        {
          "output_type": "stream",
          "text": [
            "/usr/local/lib/python3.7/site-packages/sklearn/preprocessing/_encoders.py:415: FutureWarning: The handling of integer data will change in version 0.22. Currently, the categories are determined based on the range [0, max(values)], while in the future they will be determined based on the unique values.\n",
            "If you want the future behaviour and silence this warning, you can specify \"categories='auto'\".\n",
            "In case you used a LabelEncoder before this OneHotEncoder to convert the categories to integers, then you can now use the OneHotEncoder directly.\n",
            "  warnings.warn(msg, FutureWarning)\n",
            "/usr/local/lib/python3.7/site-packages/sklearn/preprocessing/_encoders.py:415: FutureWarning: The handling of integer data will change in version 0.22. Currently, the categories are determined based on the range [0, max(values)], while in the future they will be determined based on the unique values.\n",
            "If you want the future behaviour and silence this warning, you can specify \"categories='auto'\".\n",
            "In case you used a LabelEncoder before this OneHotEncoder to convert the categories to integers, then you can now use the OneHotEncoder directly.\n",
            "  warnings.warn(msg, FutureWarning)\n"
          ],
          "name": "stderr"
        }
      ]
    },
    {
      "cell_type": "markdown",
      "metadata": {
        "id": "qwimW5pNwVsV",
        "colab_type": "text"
      },
      "source": [
        "Define training model liberaries and a function for finding best parameters for a model using for Grid Search:"
      ]
    },
    {
      "cell_type": "code",
      "metadata": {
        "id": "Qbir6yUywVsV",
        "colab_type": "code",
        "colab": {}
      },
      "source": [
        "import pandas\n",
        "import warnings\n",
        "warnings.filterwarnings('ignore')\n",
        "from sklearn import model_selection\n",
        "from sklearn.linear_model import LogisticRegression\n",
        "from sklearn.tree import DecisionTreeClassifier\n",
        "from sklearn.svm import SVC\n",
        "from sklearn.ensemble import RandomForestClassifier, AdaBoostClassifier, VotingClassifier\n",
        "from sklearn.naive_bayes import GaussianNB\n",
        "from sklearn.ensemble import ExtraTreesClassifier\n",
        "from sklearn.model_selection import GridSearchCV\n",
        "#from sklearn.cross_validation import KFold\n",
        "from sklearn.model_selection import KFold\n",
        "from sklearn.neighbors import KNeighborsClassifier\n",
        "from sklearn.svm import LinearSVC\n",
        "from sklearn.neural_network import MLPClassifier\n",
        "from nltk.classify.scikitlearn import SklearnClassifier\n",
        "\n",
        "pd.options.mode.chained_assignment = None \n",
        "\n",
        "def SearchBestParameters(model, parameters):\n",
        "    y = df[[target]]\n",
        "    yy = label_binarize(y, classes=[0, 1, 2 , 3, 4])\n",
        "    n_classes = yy.shape[1]\n",
        "    classifier = OneVsRestClassifier(model)\n",
        "\n",
        "    gs = GridSearchCV(classifier, parameters, cv=3, scoring='r2') # Using R^2 (coefficient of determination)\n",
        "    gs.fit(X_tr, y_tr).decision_function(X_te)    \n",
        "    \n",
        "    #print(classifier.get_params().keys())\n",
        "    model_params = {}\n",
        "    for param in gs.best_params_:\n",
        "        model_param = param.replace(\"estimator__\", \"\")\n",
        "        model_params[model_param] = gs.best_params_[param]\n",
        "    print(type(model).__name__, ': ', model_params, 'with score:', gs.best_score_)\n",
        "    return model_params"
      ],
      "execution_count": 0,
      "outputs": []
    },
    {
      "cell_type": "markdown",
      "metadata": {
        "id": "zgJl_W74wVsY",
        "colab_type": "text"
      },
      "source": [
        "Using Grid Search to find the best parameters for `Logistic Regression` classifier:"
      ]
    },
    {
      "cell_type": "code",
      "metadata": {
        "id": "BEkdTzZTwVsZ",
        "colab_type": "code",
        "outputId": "df8e71f0-e671-4eab-db6d-21a821b7e15e",
        "colab": {
          "base_uri": "https://localhost:8080/",
          "height": 34
        }
      },
      "source": [
        "grid = {\n",
        "    'estimator__C': [0.01, 1, 5, 7],\n",
        "    'estimator__solver': ['newton-cg', 'lbfgs', 'sag', 'saga'],\n",
        "    'estimator__multi_class': ['ovr', 'multinomial']\n",
        "}\n",
        "logistic = LogisticRegression()\n",
        "best_params = SearchBestParameters(logistic, grid)\n",
        "logistic = LogisticRegression(**best_params)   \n",
        "    "
      ],
      "execution_count": 0,
      "outputs": [
        {
          "output_type": "stream",
          "text": [
            "LogisticRegression :  {'C': 0.01, 'multi_class': 'ovr', 'solver': 'sag'} with score: -0.22312780653689734\n"
          ],
          "name": "stdout"
        }
      ]
    },
    {
      "cell_type": "markdown",
      "metadata": {
        "id": "N45P8wnpwVsc",
        "colab_type": "text"
      },
      "source": [
        "Using Grid Search to find the best parameters for `SVC` classifier:"
      ]
    },
    {
      "cell_type": "code",
      "metadata": {
        "id": "z-pGFy5ZwVsd",
        "colab_type": "code",
        "outputId": "062d2608-503e-4e77-c2ee-c4fe7244c3a7",
        "colab": {
          "base_uri": "https://localhost:8080/",
          "height": 34
        }
      },
      "source": [
        "grid={\n",
        "    'estimator__C': [3, 5, 7],\n",
        "    'estimator__kernel': [ 'linear', 'poly', 'rbf']\n",
        "}\n",
        "svc = SVC(probability=True)\n",
        "best_params = SearchBestParameters(svc, grid)\n",
        "svc = SVC(probability=True, **best_params)"
      ],
      "execution_count": 0,
      "outputs": [
        {
          "output_type": "stream",
          "text": [
            "SVC :  {'C': 5, 'kernel': 'rbf'} with score: -0.5512649824922551\n"
          ],
          "name": "stdout"
        }
      ]
    },
    {
      "cell_type": "code",
      "metadata": {
        "id": "iYureF3FwVsh",
        "colab_type": "code",
        "outputId": "7265d20e-1dd9-4c14-fb65-6a74461315a5",
        "colab": {
          "base_uri": "https://localhost:8080/",
          "height": 34
        }
      },
      "source": [
        "grid={\n",
        "    'estimator__C': [3, 5, 7],\n",
        "    'estimator__multi_class': ['ovr', 'crammer_singer'], \n",
        "}\n",
        "linearSVC = LinearSVC()\n",
        "best_params = SearchBestParameters(linearSVC, grid)\n",
        "linearSVC = LinearSVC(**best_params)"
      ],
      "execution_count": 0,
      "outputs": [
        {
          "output_type": "stream",
          "text": [
            "LinearSVC :  {'C': 7, 'multi_class': 'crammer_singer'} with score: -1.056783620419984\n"
          ],
          "name": "stdout"
        }
      ]
    },
    {
      "cell_type": "markdown",
      "metadata": {
        "id": "acBLhSgYwVsk",
        "colab_type": "text"
      },
      "source": [
        "Add all models to ensemble and one of good one to Ada Boost classifier:"
      ]
    },
    {
      "cell_type": "code",
      "metadata": {
        "id": "92Rm5WuJwVsk",
        "colab_type": "code",
        "colab": {}
      },
      "source": [
        "# create the sub models\n",
        "\n",
        "#logistic = LogisticRegression(C=5, solver='newton-cg',multi_class='multinomial')\n",
        "#svc = SVC(C=0.1, gamma=1, kernel='poly', probability=True) \n",
        "#linearSVC = LinearSVC(C=2, multi_class='crammer_singer', tol= 1000.0)\n",
        "\n",
        "#randomForest = RandomForestClassifier(criterion='entropy', max_depth=7, max_features='auto', n_estimators=10)\n",
        "\n",
        "adaBoost = AdaBoostClassifier(logistic)  "
      ],
      "execution_count": 0,
      "outputs": []
    },
    {
      "cell_type": "markdown",
      "metadata": {
        "id": "6GwWLESlwVsm",
        "colab_type": "text"
      },
      "source": [
        "Create `score_model` function to draw the classifiers performance:"
      ]
    },
    {
      "cell_type": "code",
      "metadata": {
        "id": "BOmXvKStwVsn",
        "colab_type": "code",
        "colab": {}
      },
      "source": [
        "def one_hot_decode(coded):         \n",
        "    decoded = coded.dot(cat_encoder.active_features_).astype(int)\n",
        "    return decoded\n",
        "\n",
        "def display_scores(scores):\n",
        "    print(\"\\033[1mCross Validation Score:\\033[0m \\n\\t{} (+/- {})\".format(round(scores.mean(),2), round(scores.std(),2)))\n"
      ],
      "execution_count": 0,
      "outputs": []
    },
    {
      "cell_type": "code",
      "metadata": {
        "id": "72OZFr0UwVso",
        "colab_type": "code",
        "colab": {}
      },
      "source": [
        "def F(n):\n",
        "    if n == 0: return 0\n",
        "    elif n == 1: return 1\n",
        "    else: return F(n-1)+F(n-2)\n",
        "    \n",
        "def score_model(model): \n",
        "    print('<< \\033[1m', type(model).__name__, '\\033[0m>>')\n",
        "    # Binarize the output\n",
        "    y = df[[target]]\n",
        "    yy = label_binarize(y, classes=[0, 1, 2 , 3, 4])\n",
        "    n_classes = yy.shape[1]\n",
        "\n",
        "    classifier = OneVsRestClassifier(model)\n",
        "    \n",
        "    y_score = classifier.fit(X_tr, y_tr).decision_function(X_te) \n",
        "    # plot the roc curve\n",
        "    if hasattr(model, 'predict_proba'):\n",
        "        # Binarize the output\n",
        "        lw=2\n",
        "        fpr = dict()\n",
        "        tpr = dict()\n",
        "        roc_auc = dict()\n",
        "        for i in range(n_classes):\n",
        "            fpr[i], tpr[i], _ = roc_curve(y_te[:, i], y_score[:, i], pos_label=1)\n",
        "            roc_auc[i] = auc(fpr[i], tpr[i])\n",
        "\n",
        "        # Compute macro-average ROC curve and ROC area\n",
        "        # First aggregate all false positive rates\n",
        "        all_fpr = np.unique(np.concatenate([fpr[i] for i in range(n_classes)]))\n",
        "\n",
        "        # Then interpolate all ROC curves at this points\n",
        "        mean_tpr = np.zeros_like(all_fpr)\n",
        "        for i in range(n_classes):\n",
        "            mean_tpr += interp(all_fpr, fpr[i], tpr[i])\n",
        "\n",
        "        # Compute micro-average ROC curve and ROC area\n",
        "        fpr[\"micro\"], tpr[\"micro\"], _ = roc_curve(y_te.ravel(), y_score.ravel(), pos_label=1)\n",
        "        roc_auc[\"micro\"] = auc(fpr[\"micro\"], tpr[\"micro\"])\n",
        "\n",
        "        # Finally average it and compute AUC\n",
        "        mean_tpr /= n_classes\n",
        "\n",
        "        fpr[\"macro\"] = all_fpr\n",
        "        tpr[\"macro\"] = mean_tpr\n",
        "        roc_auc[\"macro\"] = auc(fpr[\"macro\"], tpr[\"macro\"])\n",
        "\n",
        "        # Plot all ROC curves\n",
        "        plt.figure(figsize=(8, 6))\n",
        "        plt.plot(fpr[\"micro\"], tpr[\"micro\"],\n",
        "                 label='micro-average ROC curve (area = {0:0.2f})'\n",
        "                       ''.format(roc_auc[\"micro\"]),\n",
        "                 color='deeppink', linestyle=':', linewidth=4)\n",
        "\n",
        "        plt.plot(fpr[\"macro\"], tpr[\"macro\"],\n",
        "                 label='macro-average ROC curve (area = {0:0.2f})'\n",
        "                       ''.format(roc_auc[\"macro\"]),\n",
        "                 color='navy', linestyle=':', linewidth=4)\n",
        "\n",
        "        colors = cycle(['aqua', 'darkorange', 'cornflowerblue', 'blue', 'red', 'green'])\n",
        "        for i, color in zip(range(n_classes), colors):\n",
        "            plt.plot(fpr[i], tpr[i], color=color, lw=lw,\n",
        "                     label='ROC curve of class {0} (area = {1:0.2f})'\n",
        "                     ''.format(F(i+2), roc_auc[i]))\n",
        "\n",
        "        plt.plot([0, 1], [0, 1], 'k--', lw=lw)\n",
        "        plt.xlim([0.0, 1.0])\n",
        "        plt.ylim([0.0, 1.05])\n",
        "        plt.xlabel('False Positive Rate')\n",
        "        plt.ylabel('True Positive Rate')\n",
        "        plt.legend(loc=\"lower right\")\n",
        "        plt.grid()\n",
        "        plt.xticks(np.arange(0,1.1,0.1))\n",
        "        plt.yticks(np.arange(0,1.1,0.1))\n",
        "        plt.show()\n",
        "\n",
        "    # Test vs prediction scatter plot\n",
        "    y_score_c = classifier.predict(X_te)\n",
        "\n",
        "    decoded_y_te = one_hot_decode(y_te)\n",
        "    decoded_y_score_c = one_hot_decode(y_score_c)\n",
        "\n",
        "    # Prediction Score\n",
        "    print('\\033[1mEstimator Score:\\033[0m\\n\\tTraining: ', round(classifier.score(X_tr, y_tr), 2), \n",
        "            '\\n\\tTest : ', round(classifier.score(X_te, y_te),2))\n",
        "\n",
        "    scores = cross_val_score(classifier, X_tr, y_tr,scoring=\"accuracy\", cv=4)\n",
        "\n",
        "    display_scores(scores)\n",
        "    print('_______________________________________________________________________')"
      ],
      "execution_count": 0,
      "outputs": []
    },
    {
      "cell_type": "markdown",
      "metadata": {
        "id": "ukktRSVtwVsr",
        "colab_type": "text"
      },
      "source": [
        "Using `score_model` to plot the models accuracy:"
      ]
    },
    {
      "cell_type": "code",
      "metadata": {
        "scrolled": false,
        "id": "fx3rLXiiwVsr",
        "colab_type": "code",
        "outputId": "80680e88-1b5f-4abd-9577-c2be72e5bd0e",
        "colab": {
          "base_uri": "https://localhost:8080/",
          "height": 1000
        }
      },
      "source": [
        "score_model(logistic)\n",
        "score_model(svc)\n",
        "score_model(adaBoost)\n",
        "score_model(linearSVC)"
      ],
      "execution_count": 0,
      "outputs": [
        {
          "output_type": "stream",
          "text": [
            "<< \u001b[1m LogisticRegression \u001b[0m>>\n"
          ],
          "name": "stdout"
        },
        {
          "output_type": "display_data",
          "data": {
            "text/plain": [
              "<Figure size 576x432 with 1 Axes>"
            ],
            "image/png": "[encoded data removed]"
          },
          "metadata": {
            "tags": [],
            "needs_background": "light"
          }
        },
        {
          "output_type": "stream",
          "text": [
            "\u001b[1mEstimator Score:\u001b[0m\n",
            "\tTraining:  0.0 \n",
            "\tTest :  0.0\n",
            "\u001b[1mCross Validation Score:\u001b[0m \n",
            "\t0.0 (+/- 0.0)\n",
            "_______________________________________________________________________\n",
            "<< \u001b[1m SVC \u001b[0m>>\n"
          ],
          "name": "stdout"
        },
        {
          "output_type": "display_data",
          "data": {
            "text/plain": [
              "<Figure size 576x432 with 1 Axes>"
            ],
            "image/png": "[encoded data removed]"
          },
          "metadata": {
            "tags": [],
            "needs_background": "light"
          }
        },
        {
          "output_type": "stream",
          "text": [
            "\u001b[1mEstimator Score:\u001b[0m\n",
            "\tTraining:  1.0 \n",
            "\tTest :  0.22\n",
            "\u001b[1mCross Validation Score:\u001b[0m \n",
            "\t0.2 (+/- 0.09)\n",
            "_______________________________________________________________________\n",
            "<< \u001b[1m AdaBoostClassifier \u001b[0m>>\n"
          ],
          "name": "stdout"
        },
        {
          "output_type": "display_data",
          "data": {
            "text/plain": [
              "<Figure size 576x432 with 1 Axes>"
            ],
            "image/png": "[encoded data removed]"
          },
          "metadata": {
            "tags": [],
            "needs_background": "light"
          }
        },
        {
          "output_type": "stream",
          "text": [
            "\u001b[1mEstimator Score:\u001b[0m\n",
            "\tTraining:  0.0 \n",
            "\tTest :  0.0\n",
            "\u001b[1mCross Validation Score:\u001b[0m \n",
            "\t0.0 (+/- 0.0)\n",
            "_______________________________________________________________________\n",
            "<< \u001b[1m LinearSVC \u001b[0m>>\n",
            "\u001b[1mEstimator Score:\u001b[0m\n",
            "\tTraining:  0.45 \n",
            "\tTest :  0.19\n",
            "\u001b[1mCross Validation Score:\u001b[0m \n",
            "\t0.15 (+/- 0.14)\n",
            "_______________________________________________________________________\n"
          ],
          "name": "stdout"
        }
      ]
    },
    {
      "cell_type": "markdown",
      "metadata": {
        "id": "Yt8_i1ITwVsv",
        "colab_type": "text"
      },
      "source": [
        "### Prediction"
      ]
    },
    {
      "cell_type": "markdown",
      "metadata": {
        "id": "qZOXWqDbwVsx",
        "colab_type": "text"
      },
      "source": [
        "Get the User Story number and predict its size base on the given `Labels`:"
      ]
    },
    {
      "cell_type": "code",
      "metadata": {
        "id": "KNo8sdcUwVsy",
        "colab_type": "code",
        "colab": {}
      },
      "source": [
        "prediction_df = df.copy()\n",
        "prediction_df = prediction_df.drop(columns=['Index', 'Key', 'Points', 'Summary']).iloc[0:0]\n",
        "prediction_df.shape"
      ],
      "execution_count": 0,
      "outputs": []
    },
    {
      "cell_type": "code",
      "metadata": {
        "id": "H04_KJgQwVs3",
        "colab_type": "code",
        "colab": {}
      },
      "source": [
        "userName = 'user1@company.com' \n",
        "password = getpass.getpass(prompt='Username: '+userName+'\\r\\nPassword: ')\n",
        "\n",
        "auth_jira = JIRA(server = 'https://company.atlassian.net', auth=( userName, password ))\n",
        "\n",
        "story = input( \"User Story # ILX-\")\n",
        "#story = '8397' 3pts\n",
        "#story = '10559' 2pts\n",
        "#story = '9885' 8pts\n",
        "\n",
        "issue = auth_jira.issue('ILX-'+story)\n",
        "print('Predicting points for \\033[1m\\033[94m`',issue.fields.summary ,'`\\033[0m User Story.')"
      ],
      "execution_count": 0,
      "outputs": []
    },
    {
      "cell_type": "markdown",
      "metadata": {
        "id": "rOxkvPE0wVs5",
        "colab_type": "text"
      },
      "source": [
        "Prepare the input data for prediction:"
      ]
    },
    {
      "cell_type": "code",
      "metadata": {
        "id": "2ZBDt05pwVs6",
        "colab_type": "code",
        "colab": {}
      },
      "source": [
        "for column in prediction_df.columns:\n",
        "    prediction_df.loc[0, column] = 0\n",
        "    for label in issue.fields.labels:\n",
        "        prediction_df.loc[0, label] = 1\n",
        "\n",
        "print('Manual prediction was:\\033[1m\\033[94m', issue.fields.customfield_10049,'\\033[0m')\n"
      ],
      "execution_count": 0,
      "outputs": []
    },
    {
      "cell_type": "markdown",
      "metadata": {
        "id": "xJdDOad5wVs9",
        "colab_type": "text"
      },
      "source": [
        "Create predict points function to use various models for prediction:"
      ]
    },
    {
      "cell_type": "code",
      "metadata": {
        "id": "hTz8GVgowVs-",
        "colab_type": "code",
        "colab": {}
      },
      "source": [
        "import operator\n",
        "\n",
        "def predict_points(model, input_df): \n",
        "    classifier = OneVsRestClassifier(model)\n",
        "    classifier.fit(X_tr, y_tr)\n",
        "    predict = classifier.predict(prediction_df)\n",
        "    if hasattr(model, 'predict_proba'):\n",
        "        predict_prop = classifier.predict_proba(prediction_df)\n",
        "        prediction = one_hot_decode(predict[0])\n",
        "        index, value = max(enumerate(predict_prop[0]), key=operator.itemgetter(1))\n",
        "        print('\\033[1m',type(model).__name__, '\\033[0mprediction is\\033[1m\\033[94m', \n",
        "            F(index+2), '\\033[0mpoints with\\033[1m\\033[94m', round(value,2)*100,'%\\033[0m probability')\n",
        "    else:\n",
        "        prediction = one_hot_decode(predict[0])\n",
        "        print('\\033[1m',type(model).__name__, '\\033[0mprediction is\\033[1m\\033[94m', \n",
        "            prediction, '\\033[0mpoints')\n"
      ],
      "execution_count": 0,
      "outputs": []
    },
    {
      "cell_type": "markdown",
      "metadata": {
        "id": "LhlkhUPmwVtA",
        "colab_type": "text"
      },
      "source": [
        "Predict using various prediction models:"
      ]
    },
    {
      "cell_type": "code",
      "metadata": {
        "id": "IpZoLGo9wVtB",
        "colab_type": "code",
        "colab": {}
      },
      "source": [
        "predict_points(logistic, prediction_df)\n",
        "predict_points(svc, prediction_df)\n",
        "predict_points(linearSVC, prediction_df)\n",
        "predict_points(adaBoost, prediction_df)\n"
      ],
      "execution_count": 0,
      "outputs": []
    },
    {
      "cell_type": "code",
      "metadata": {
        "id": "q8QAGeopwVtD",
        "colab_type": "code",
        "colab": {}
      },
      "source": [
        ""
      ],
      "execution_count": 0,
      "outputs": []
    },
    {
      "cell_type": "markdown",
      "metadata": {
        "id": "95yB6m7MwVtF",
        "colab_type": "text"
      },
      "source": [
        "### Conclusion"
      ]
    },
    {
      "cell_type": "markdown",
      "metadata": {
        "id": "kQTWRhniwVtG",
        "colab_type": "text"
      },
      "source": [
        " - VotingClassifier, GaussianNB and SVC seems to perform very well\n",
        " - The data is not well defined and dimension could be reduced\n",
        " - There could be weightage for each Label to make prediction more accurate\n",
        " - Not enough data defined"
      ]
    },
    {
      "cell_type": "code",
      "metadata": {
        "id": "0u6NPVzdwVtG",
        "colab_type": "code",
        "colab": {}
      },
      "source": [
        "\n"
      ],
      "execution_count": 0,
      "outputs": []
    }
  ]
}