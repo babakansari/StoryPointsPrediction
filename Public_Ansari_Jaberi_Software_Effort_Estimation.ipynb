{
 "cells": [
  {
   "cell_type": "markdown",
   "metadata": {
    "colab_type": "text",
    "id": "1XmSxrwywVr9"
   },
   "source": [
    "## Author name:\n",
    "\n",
    "<pre> Babak Ansari-Jaberi</pre>\n",
    "<pre> November 2018</pre>"
   ]
  },
  {
   "cell_type": "markdown",
   "metadata": {
    "colab_type": "text",
    "id": "1RpH21-iwVr-"
   },
   "source": [
    "# User Story points(weight) prediction\n",
    "\n",
    "The grid search may take long time to train so it probably is better to try the example on local running jupyter notebook"
   ]
  },
  {
   "cell_type": "markdown",
   "metadata": {
    "colab_type": "text",
    "id": "vJjZgvyhwVr_"
   },
   "source": [
    "### Data Prepration\n",
    "\n",
    "Load data from development tracking software and prepare it for machine learning.\n",
    "\n",
    "The data would include the work item number, the previously predicted weight and columns of required activities (called labels) to be used for training."
   ]
  },
  {
   "cell_type": "code",
   "execution_count": 109,
   "metadata": {
    "colab": {
     "base_uri": "https://localhost:8080/",
     "height": 649
    },
    "colab_type": "code",
    "id": "z9Get7zmDRdK",
    "outputId": "56261018-d15c-4233-f8a5-c24f9c2e5b10"
   },
   "outputs": [],
   "source": [
    "# The needed liberaries\n",
    "# !pip install sklearn\n",
    "# !pip3 install pandas\n",
    "# !pip3 install matplotlib\n",
    "# !pip3 install seaborn\n",
    "# !pip3 install xlrd \n",
    "# !pip3 install nltk"
   ]
  },
  {
   "cell_type": "code",
   "execution_count": 110,
   "metadata": {},
   "outputs": [],
   "source": [
    "import os\n",
    "\n",
    "# This is for intelisense\n",
    "%config IPCompleter.greedy=True\n",
    "\n",
    "# Supress warning and informational messages\n",
    "os.environ['TF_CPP_MIN_LOG_LEVEL'] = '2'"
   ]
  },
  {
   "cell_type": "code",
   "execution_count": 111,
   "metadata": {
    "colab": {
     "base_uri": "https://localhost:8080/",
     "height": 528
    },
    "colab_type": "code",
    "id": "MkT2idmswVsA",
    "outputId": "31f1071c-3b4b-4e38-c3f9-5fcebeb0e1ee"
   },
   "outputs": [],
   "source": [
    "\n",
    "import getpass\n",
    "import pandas as pd\n",
    "import numpy as np\n",
    "import os.path\n",
    "from pandas import ExcelWriter\n",
    "from sklearn.metrics import precision_recall_curve\n",
    "import matplotlib.pyplot as plt\n",
    "from sklearn.metrics import roc_curve, auc\n",
    "from sklearn.model_selection import cross_val_score\n",
    "import seaborn as sns\n",
    "from sklearn.multiclass import OneVsRestClassifier\n",
    "from sklearn.model_selection import train_test_split\n",
    "from sklearn.preprocessing import label_binarize\n",
    "from scipy import interp\n",
    "from itertools import cycle\n",
    "\n",
    "\n",
    "file_name = 'Team1JiraReportMain.xlsx'\n",
    "jiraFileExist = os.path.exists(file_name)"
   ]
  },
  {
   "cell_type": "markdown",
   "metadata": {},
   "source": [
    "The `Team1JiraReportMain.xlsx` file has the issue number and the Labels assigned by scrum team. It is actual data from a practical experiment. The data is extracted from the issue tracking software using provided APIs.\n"
   ]
  },
  {
   "cell_type": "code",
   "execution_count": 112,
   "metadata": {
    "colab": {},
    "colab_type": "code",
    "id": "XZ0-MJjIwVsD",
    "outputId": "a4bab20b-208f-4868-8d5c-e93bcfda63c6"
   },
   "outputs": [
    {
     "name": "stdout",
     "output_type": "stream",
     "text": [
      "Data loaded from file: Team1JiraReportMain.xlsx\n",
      "(90, 31)\n"
     ]
    },
    {
     "data": {
      "text/html": [
       "<div>\n",
       "<style scoped>\n",
       "    .dataframe tbody tr th:only-of-type {\n",
       "        vertical-align: middle;\n",
       "    }\n",
       "\n",
       "    .dataframe tbody tr th {\n",
       "        vertical-align: top;\n",
       "    }\n",
       "\n",
       "    .dataframe thead th {\n",
       "        text-align: right;\n",
       "    }\n",
       "</style>\n",
       "<table border=\"1\" class=\"dataframe\">\n",
       "  <thead>\n",
       "    <tr style=\"text-align: right;\">\n",
       "      <th></th>\n",
       "      <th>Unnamed: 0</th>\n",
       "      <th>Index</th>\n",
       "      <th>Key</th>\n",
       "      <th>ML-L-Code-Automation</th>\n",
       "      <th>ML-L-Code-Business</th>\n",
       "      <th>ML-L-Code-UI</th>\n",
       "      <th>ML-L-Communication</th>\n",
       "      <th>ML-L-Configuration</th>\n",
       "      <th>ML-L-Studying</th>\n",
       "      <th>ML-L-Test-Automation</th>\n",
       "      <th>...</th>\n",
       "      <th>ML-S-Code-Business</th>\n",
       "      <th>ML-S-Code-Script</th>\n",
       "      <th>ML-S-Code-UI</th>\n",
       "      <th>ML-S-Communication</th>\n",
       "      <th>ML-S-Configuration</th>\n",
       "      <th>ML-S-Studying</th>\n",
       "      <th>ML-S-Test-Automation</th>\n",
       "      <th>ML-S-Test-Manual</th>\n",
       "      <th>Points</th>\n",
       "      <th>Summary</th>\n",
       "    </tr>\n",
       "  </thead>\n",
       "  <tbody>\n",
       "    <tr>\n",
       "      <td>0</td>\n",
       "      <td>8</td>\n",
       "      <td>0</td>\n",
       "      <td>ILX-13044</td>\n",
       "      <td>0</td>\n",
       "      <td>0</td>\n",
       "      <td>0</td>\n",
       "      <td>0</td>\n",
       "      <td>0</td>\n",
       "      <td>0</td>\n",
       "      <td>0</td>\n",
       "      <td>...</td>\n",
       "      <td>0</td>\n",
       "      <td>0</td>\n",
       "      <td>0</td>\n",
       "      <td>0</td>\n",
       "      <td>0</td>\n",
       "      <td>0</td>\n",
       "      <td>0</td>\n",
       "      <td>0</td>\n",
       "      <td>3</td>\n",
       "      <td>Logout from V6 or ACTS does not actually logou...</td>\n",
       "    </tr>\n",
       "    <tr>\n",
       "      <td>1</td>\n",
       "      <td>14</td>\n",
       "      <td>1</td>\n",
       "      <td>ILX-11815</td>\n",
       "      <td>0</td>\n",
       "      <td>0</td>\n",
       "      <td>0</td>\n",
       "      <td>0</td>\n",
       "      <td>0</td>\n",
       "      <td>0</td>\n",
       "      <td>0</td>\n",
       "      <td>...</td>\n",
       "      <td>0</td>\n",
       "      <td>0</td>\n",
       "      <td>0</td>\n",
       "      <td>0</td>\n",
       "      <td>0</td>\n",
       "      <td>0</td>\n",
       "      <td>0</td>\n",
       "      <td>0</td>\n",
       "      <td>3</td>\n",
       "      <td>Some of the Alliance admin users are not able ...</td>\n",
       "    </tr>\n",
       "    <tr>\n",
       "      <td>2</td>\n",
       "      <td>17</td>\n",
       "      <td>2</td>\n",
       "      <td>ILX-11017</td>\n",
       "      <td>0</td>\n",
       "      <td>0</td>\n",
       "      <td>0</td>\n",
       "      <td>0</td>\n",
       "      <td>0</td>\n",
       "      <td>0</td>\n",
       "      <td>0</td>\n",
       "      <td>...</td>\n",
       "      <td>1</td>\n",
       "      <td>0</td>\n",
       "      <td>0</td>\n",
       "      <td>1</td>\n",
       "      <td>0</td>\n",
       "      <td>0</td>\n",
       "      <td>0</td>\n",
       "      <td>1</td>\n",
       "      <td>2</td>\n",
       "      <td>DataCollector is not working for PROD sites</td>\n",
       "    </tr>\n",
       "    <tr>\n",
       "      <td>3</td>\n",
       "      <td>20</td>\n",
       "      <td>3</td>\n",
       "      <td>ILX-11877</td>\n",
       "      <td>0</td>\n",
       "      <td>0</td>\n",
       "      <td>0</td>\n",
       "      <td>0</td>\n",
       "      <td>0</td>\n",
       "      <td>0</td>\n",
       "      <td>0</td>\n",
       "      <td>...</td>\n",
       "      <td>0</td>\n",
       "      <td>0</td>\n",
       "      <td>0</td>\n",
       "      <td>0</td>\n",
       "      <td>0</td>\n",
       "      <td>0</td>\n",
       "      <td>0</td>\n",
       "      <td>0</td>\n",
       "      <td>3</td>\n",
       "      <td>Deleting an object inherited from abstract obj...</td>\n",
       "    </tr>\n",
       "    <tr>\n",
       "      <td>4</td>\n",
       "      <td>29</td>\n",
       "      <td>4</td>\n",
       "      <td>ILX-14406</td>\n",
       "      <td>0</td>\n",
       "      <td>0</td>\n",
       "      <td>0</td>\n",
       "      <td>0</td>\n",
       "      <td>0</td>\n",
       "      <td>0</td>\n",
       "      <td>0</td>\n",
       "      <td>...</td>\n",
       "      <td>0</td>\n",
       "      <td>1</td>\n",
       "      <td>0</td>\n",
       "      <td>0</td>\n",
       "      <td>1</td>\n",
       "      <td>0</td>\n",
       "      <td>0</td>\n",
       "      <td>1</td>\n",
       "      <td>2</td>\n",
       "      <td>Colas - Create an SQL Script which will extend...</td>\n",
       "    </tr>\n",
       "  </tbody>\n",
       "</table>\n",
       "<p>5 rows × 31 columns</p>\n",
       "</div>"
      ],
      "text/plain": [
       "   Unnamed: 0  Index        Key  ML-L-Code-Automation  ML-L-Code-Business  \\\n",
       "0           8      0  ILX-13044                     0                   0   \n",
       "1          14      1  ILX-11815                     0                   0   \n",
       "2          17      2  ILX-11017                     0                   0   \n",
       "3          20      3  ILX-11877                     0                   0   \n",
       "4          29      4  ILX-14406                     0                   0   \n",
       "\n",
       "   ML-L-Code-UI  ML-L-Communication  ML-L-Configuration  ML-L-Studying  \\\n",
       "0             0                   0                   0              0   \n",
       "1             0                   0                   0              0   \n",
       "2             0                   0                   0              0   \n",
       "3             0                   0                   0              0   \n",
       "4             0                   0                   0              0   \n",
       "\n",
       "   ML-L-Test-Automation  ...  ML-S-Code-Business  ML-S-Code-Script  \\\n",
       "0                     0  ...                   0                 0   \n",
       "1                     0  ...                   0                 0   \n",
       "2                     0  ...                   1                 0   \n",
       "3                     0  ...                   0                 0   \n",
       "4                     0  ...                   0                 1   \n",
       "\n",
       "   ML-S-Code-UI  ML-S-Communication  ML-S-Configuration  ML-S-Studying  \\\n",
       "0             0                   0                   0              0   \n",
       "1             0                   0                   0              0   \n",
       "2             0                   1                   0              0   \n",
       "3             0                   0                   0              0   \n",
       "4             0                   0                   1              0   \n",
       "\n",
       "   ML-S-Test-Automation  ML-S-Test-Manual  Points  \\\n",
       "0                     0                 0       3   \n",
       "1                     0                 0       3   \n",
       "2                     0                 1       2   \n",
       "3                     0                 0       3   \n",
       "4                     0                 1       2   \n",
       "\n",
       "                                             Summary  \n",
       "0  Logout from V6 or ACTS does not actually logou...  \n",
       "1  Some of the Alliance admin users are not able ...  \n",
       "2        DataCollector is not working for PROD sites  \n",
       "3  Deleting an object inherited from abstract obj...  \n",
       "4  Colas - Create an SQL Script which will extend...  \n",
       "\n",
       "[5 rows x 31 columns]"
      ]
     },
     "execution_count": 112,
     "metadata": {},
     "output_type": "execute_result"
    }
   ],
   "source": [
    "# Read data from existing User Story prediction file\n",
    "print(\"Data loaded from file:\",file_name)\n",
    "df = pd.read_excel(file_name)\n",
    "print(df.shape)\n",
    "df.head()"
   ]
  },
  {
   "cell_type": "code",
   "execution_count": 117,
   "metadata": {
    "colab": {},
    "colab_type": "code",
    "id": "FkoqfQB8wVsI",
    "outputId": "86e75656-ad08-4ba3-875e-0046eba16141"
   },
   "outputs": [
    {
     "data": {
      "text/html": [
       "<div>\n",
       "<style scoped>\n",
       "    .dataframe tbody tr th:only-of-type {\n",
       "        vertical-align: middle;\n",
       "    }\n",
       "\n",
       "    .dataframe tbody tr th {\n",
       "        vertical-align: top;\n",
       "    }\n",
       "\n",
       "    .dataframe thead th {\n",
       "        text-align: right;\n",
       "    }\n",
       "</style>\n",
       "<table border=\"1\" class=\"dataframe\">\n",
       "  <thead>\n",
       "    <tr style=\"text-align: right;\">\n",
       "      <th></th>\n",
       "      <th>Unnamed: 0</th>\n",
       "      <th>Index</th>\n",
       "      <th>ML-L-Code-Automation</th>\n",
       "      <th>ML-L-Code-Business</th>\n",
       "      <th>ML-L-Code-UI</th>\n",
       "      <th>ML-L-Communication</th>\n",
       "      <th>ML-L-Configuration</th>\n",
       "      <th>ML-L-Studying</th>\n",
       "      <th>ML-L-Test-Automation</th>\n",
       "      <th>ML-L-Test-Manual</th>\n",
       "      <th>...</th>\n",
       "      <th>ML-S-Code-Automation</th>\n",
       "      <th>ML-S-Code-Business</th>\n",
       "      <th>ML-S-Code-Script</th>\n",
       "      <th>ML-S-Code-UI</th>\n",
       "      <th>ML-S-Communication</th>\n",
       "      <th>ML-S-Configuration</th>\n",
       "      <th>ML-S-Studying</th>\n",
       "      <th>ML-S-Test-Automation</th>\n",
       "      <th>ML-S-Test-Manual</th>\n",
       "      <th>Points</th>\n",
       "    </tr>\n",
       "  </thead>\n",
       "  <tbody>\n",
       "    <tr>\n",
       "      <td>count</td>\n",
       "      <td>90.000000</td>\n",
       "      <td>90.000000</td>\n",
       "      <td>90.000000</td>\n",
       "      <td>90.000000</td>\n",
       "      <td>90.000000</td>\n",
       "      <td>90.000000</td>\n",
       "      <td>90.000000</td>\n",
       "      <td>90.000000</td>\n",
       "      <td>90.000000</td>\n",
       "      <td>90.000000</td>\n",
       "      <td>...</td>\n",
       "      <td>90.000000</td>\n",
       "      <td>90.000000</td>\n",
       "      <td>90.000000</td>\n",
       "      <td>90.000000</td>\n",
       "      <td>90.000000</td>\n",
       "      <td>90.000000</td>\n",
       "      <td>90.000000</td>\n",
       "      <td>90.000000</td>\n",
       "      <td>90.000000</td>\n",
       "      <td>90.000000</td>\n",
       "    </tr>\n",
       "    <tr>\n",
       "      <td>mean</td>\n",
       "      <td>148.622222</td>\n",
       "      <td>44.500000</td>\n",
       "      <td>0.033333</td>\n",
       "      <td>0.111111</td>\n",
       "      <td>0.011111</td>\n",
       "      <td>0.011111</td>\n",
       "      <td>0.011111</td>\n",
       "      <td>0.044444</td>\n",
       "      <td>0.055556</td>\n",
       "      <td>0.022222</td>\n",
       "      <td>...</td>\n",
       "      <td>0.033333</td>\n",
       "      <td>0.188889</td>\n",
       "      <td>0.022222</td>\n",
       "      <td>0.166667</td>\n",
       "      <td>0.055556</td>\n",
       "      <td>0.055556</td>\n",
       "      <td>0.055556</td>\n",
       "      <td>0.088889</td>\n",
       "      <td>0.211111</td>\n",
       "      <td>3.800000</td>\n",
       "    </tr>\n",
       "    <tr>\n",
       "      <td>std</td>\n",
       "      <td>80.693007</td>\n",
       "      <td>26.124701</td>\n",
       "      <td>0.180511</td>\n",
       "      <td>0.316030</td>\n",
       "      <td>0.105409</td>\n",
       "      <td>0.105409</td>\n",
       "      <td>0.105409</td>\n",
       "      <td>0.207235</td>\n",
       "      <td>0.230345</td>\n",
       "      <td>0.148231</td>\n",
       "      <td>...</td>\n",
       "      <td>0.180511</td>\n",
       "      <td>0.393613</td>\n",
       "      <td>0.148231</td>\n",
       "      <td>0.374766</td>\n",
       "      <td>0.230345</td>\n",
       "      <td>0.230345</td>\n",
       "      <td>0.230345</td>\n",
       "      <td>0.286178</td>\n",
       "      <td>0.410383</td>\n",
       "      <td>1.995501</td>\n",
       "    </tr>\n",
       "    <tr>\n",
       "      <td>min</td>\n",
       "      <td>8.000000</td>\n",
       "      <td>0.000000</td>\n",
       "      <td>0.000000</td>\n",
       "      <td>0.000000</td>\n",
       "      <td>0.000000</td>\n",
       "      <td>0.000000</td>\n",
       "      <td>0.000000</td>\n",
       "      <td>0.000000</td>\n",
       "      <td>0.000000</td>\n",
       "      <td>0.000000</td>\n",
       "      <td>...</td>\n",
       "      <td>0.000000</td>\n",
       "      <td>0.000000</td>\n",
       "      <td>0.000000</td>\n",
       "      <td>0.000000</td>\n",
       "      <td>0.000000</td>\n",
       "      <td>0.000000</td>\n",
       "      <td>0.000000</td>\n",
       "      <td>0.000000</td>\n",
       "      <td>0.000000</td>\n",
       "      <td>1.000000</td>\n",
       "    </tr>\n",
       "    <tr>\n",
       "      <td>25%</td>\n",
       "      <td>78.750000</td>\n",
       "      <td>22.250000</td>\n",
       "      <td>0.000000</td>\n",
       "      <td>0.000000</td>\n",
       "      <td>0.000000</td>\n",
       "      <td>0.000000</td>\n",
       "      <td>0.000000</td>\n",
       "      <td>0.000000</td>\n",
       "      <td>0.000000</td>\n",
       "      <td>0.000000</td>\n",
       "      <td>...</td>\n",
       "      <td>0.000000</td>\n",
       "      <td>0.000000</td>\n",
       "      <td>0.000000</td>\n",
       "      <td>0.000000</td>\n",
       "      <td>0.000000</td>\n",
       "      <td>0.000000</td>\n",
       "      <td>0.000000</td>\n",
       "      <td>0.000000</td>\n",
       "      <td>0.000000</td>\n",
       "      <td>3.000000</td>\n",
       "    </tr>\n",
       "    <tr>\n",
       "      <td>50%</td>\n",
       "      <td>147.000000</td>\n",
       "      <td>44.500000</td>\n",
       "      <td>0.000000</td>\n",
       "      <td>0.000000</td>\n",
       "      <td>0.000000</td>\n",
       "      <td>0.000000</td>\n",
       "      <td>0.000000</td>\n",
       "      <td>0.000000</td>\n",
       "      <td>0.000000</td>\n",
       "      <td>0.000000</td>\n",
       "      <td>...</td>\n",
       "      <td>0.000000</td>\n",
       "      <td>0.000000</td>\n",
       "      <td>0.000000</td>\n",
       "      <td>0.000000</td>\n",
       "      <td>0.000000</td>\n",
       "      <td>0.000000</td>\n",
       "      <td>0.000000</td>\n",
       "      <td>0.000000</td>\n",
       "      <td>0.000000</td>\n",
       "      <td>3.000000</td>\n",
       "    </tr>\n",
       "    <tr>\n",
       "      <td>75%</td>\n",
       "      <td>219.500000</td>\n",
       "      <td>66.750000</td>\n",
       "      <td>0.000000</td>\n",
       "      <td>0.000000</td>\n",
       "      <td>0.000000</td>\n",
       "      <td>0.000000</td>\n",
       "      <td>0.000000</td>\n",
       "      <td>0.000000</td>\n",
       "      <td>0.000000</td>\n",
       "      <td>0.000000</td>\n",
       "      <td>...</td>\n",
       "      <td>0.000000</td>\n",
       "      <td>0.000000</td>\n",
       "      <td>0.000000</td>\n",
       "      <td>0.000000</td>\n",
       "      <td>0.000000</td>\n",
       "      <td>0.000000</td>\n",
       "      <td>0.000000</td>\n",
       "      <td>0.000000</td>\n",
       "      <td>0.000000</td>\n",
       "      <td>5.000000</td>\n",
       "    </tr>\n",
       "    <tr>\n",
       "      <td>max</td>\n",
       "      <td>290.000000</td>\n",
       "      <td>89.000000</td>\n",
       "      <td>1.000000</td>\n",
       "      <td>1.000000</td>\n",
       "      <td>1.000000</td>\n",
       "      <td>1.000000</td>\n",
       "      <td>1.000000</td>\n",
       "      <td>1.000000</td>\n",
       "      <td>1.000000</td>\n",
       "      <td>1.000000</td>\n",
       "      <td>...</td>\n",
       "      <td>1.000000</td>\n",
       "      <td>1.000000</td>\n",
       "      <td>1.000000</td>\n",
       "      <td>1.000000</td>\n",
       "      <td>1.000000</td>\n",
       "      <td>1.000000</td>\n",
       "      <td>1.000000</td>\n",
       "      <td>1.000000</td>\n",
       "      <td>1.000000</td>\n",
       "      <td>8.000000</td>\n",
       "    </tr>\n",
       "  </tbody>\n",
       "</table>\n",
       "<p>8 rows × 29 columns</p>\n",
       "</div>"
      ],
      "text/plain": [
       "       Unnamed: 0      Index  ML-L-Code-Automation  ML-L-Code-Business  \\\n",
       "count   90.000000  90.000000             90.000000           90.000000   \n",
       "mean   148.622222  44.500000              0.033333            0.111111   \n",
       "std     80.693007  26.124701              0.180511            0.316030   \n",
       "min      8.000000   0.000000              0.000000            0.000000   \n",
       "25%     78.750000  22.250000              0.000000            0.000000   \n",
       "50%    147.000000  44.500000              0.000000            0.000000   \n",
       "75%    219.500000  66.750000              0.000000            0.000000   \n",
       "max    290.000000  89.000000              1.000000            1.000000   \n",
       "\n",
       "       ML-L-Code-UI  ML-L-Communication  ML-L-Configuration  ML-L-Studying  \\\n",
       "count     90.000000           90.000000           90.000000      90.000000   \n",
       "mean       0.011111            0.011111            0.011111       0.044444   \n",
       "std        0.105409            0.105409            0.105409       0.207235   \n",
       "min        0.000000            0.000000            0.000000       0.000000   \n",
       "25%        0.000000            0.000000            0.000000       0.000000   \n",
       "50%        0.000000            0.000000            0.000000       0.000000   \n",
       "75%        0.000000            0.000000            0.000000       0.000000   \n",
       "max        1.000000            1.000000            1.000000       1.000000   \n",
       "\n",
       "       ML-L-Test-Automation  ML-L-Test-Manual  ...  ML-S-Code-Automation  \\\n",
       "count             90.000000         90.000000  ...             90.000000   \n",
       "mean               0.055556          0.022222  ...              0.033333   \n",
       "std                0.230345          0.148231  ...              0.180511   \n",
       "min                0.000000          0.000000  ...              0.000000   \n",
       "25%                0.000000          0.000000  ...              0.000000   \n",
       "50%                0.000000          0.000000  ...              0.000000   \n",
       "75%                0.000000          0.000000  ...              0.000000   \n",
       "max                1.000000          1.000000  ...              1.000000   \n",
       "\n",
       "       ML-S-Code-Business  ML-S-Code-Script  ML-S-Code-UI  ML-S-Communication  \\\n",
       "count           90.000000         90.000000     90.000000           90.000000   \n",
       "mean             0.188889          0.022222      0.166667            0.055556   \n",
       "std              0.393613          0.148231      0.374766            0.230345   \n",
       "min              0.000000          0.000000      0.000000            0.000000   \n",
       "25%              0.000000          0.000000      0.000000            0.000000   \n",
       "50%              0.000000          0.000000      0.000000            0.000000   \n",
       "75%              0.000000          0.000000      0.000000            0.000000   \n",
       "max              1.000000          1.000000      1.000000            1.000000   \n",
       "\n",
       "       ML-S-Configuration  ML-S-Studying  ML-S-Test-Automation  \\\n",
       "count           90.000000      90.000000             90.000000   \n",
       "mean             0.055556       0.055556              0.088889   \n",
       "std              0.230345       0.230345              0.286178   \n",
       "min              0.000000       0.000000              0.000000   \n",
       "25%              0.000000       0.000000              0.000000   \n",
       "50%              0.000000       0.000000              0.000000   \n",
       "75%              0.000000       0.000000              0.000000   \n",
       "max              1.000000       1.000000              1.000000   \n",
       "\n",
       "       ML-S-Test-Manual     Points  \n",
       "count         90.000000  90.000000  \n",
       "mean           0.211111   3.800000  \n",
       "std            0.410383   1.995501  \n",
       "min            0.000000   1.000000  \n",
       "25%            0.000000   3.000000  \n",
       "50%            0.000000   3.000000  \n",
       "75%            0.000000   5.000000  \n",
       "max            1.000000   8.000000  \n",
       "\n",
       "[8 rows x 29 columns]"
      ]
     },
     "execution_count": 117,
     "metadata": {},
     "output_type": "execute_result"
    }
   ],
   "source": [
    "df.describe()"
   ]
  },
  {
   "cell_type": "markdown",
   "metadata": {
    "colab_type": "text",
    "id": "r14K9sOjwVsM"
   },
   "source": [
    "### Training "
   ]
  },
  {
   "cell_type": "markdown",
   "metadata": {
    "colab_type": "text",
    "id": "U9kBdIxewVsM"
   },
   "source": [
    "Divide data into 70% for training and 40% for testing:"
   ]
  },
  {
   "cell_type": "code",
   "execution_count": 118,
   "metadata": {
    "colab": {},
    "colab_type": "code",
    "id": "TQaE5cQdwVsN",
    "outputId": "540a0d94-bcd2-424e-83e6-fa55047c9c3d"
   },
   "outputs": [
    {
     "name": "stdout",
     "output_type": "stream",
     "text": [
      "54 train + 36 test\n"
     ]
    }
   ],
   "source": [
    "from sklearn.model_selection import train_test_split\n",
    "\n",
    "train_set, test_set = train_test_split(df, test_size=0.4, random_state=42)\n",
    "print(len(train_set), \"train +\", len(test_set), \"test\")"
   ]
  },
  {
   "cell_type": "markdown",
   "metadata": {
    "colab_type": "text",
    "id": "9FyJjg9OwVsQ"
   },
   "source": [
    "Identify target column and feature variables:"
   ]
  },
  {
   "cell_type": "code",
   "execution_count": 119,
   "metadata": {
    "colab": {},
    "colab_type": "code",
    "id": "8Pt8fy-_wVsR"
   },
   "outputs": [],
   "source": [
    "target = 'Points'\n",
    "features = list(train_set.columns)\n",
    "features = [f for f in features if f!=target and f!='Index' and f!='Key' and f!='Summary']\n",
    "\n",
    "# Split data into train and test sets\n",
    "X_tr = train_set[features]\n",
    "y_tr = train_set[[target]]\n",
    "\n",
    "X_te = test_set[features]\n",
    "y_te = test_set[[target]]"
   ]
  },
  {
   "cell_type": "code",
   "execution_count": 120,
   "metadata": {
    "colab": {},
    "colab_type": "code",
    "id": "Dya6W2H1wVsT"
   },
   "outputs": [],
   "source": [
    "# Encode points using one hot encoder\n",
    "from sklearn.preprocessing import OneHotEncoder\n",
    "\n",
    "points_tr = train_set[[target]]\n",
    "\n",
    "cat_encoder = OneHotEncoder(sparse=False)\n",
    "\n",
    "points_tr_fit = cat_encoder.fit(points_tr)\n",
    "\n",
    "points_tr_cat = points_tr_fit.transform(points_tr)\n",
    "\n",
    "points_te = test_set[[target]]\n",
    "points_te_cat = cat_encoder.fit_transform(points_te)\n",
    "\n",
    "points_te_cat\n",
    "y_tr = points_tr_cat\n",
    "y_te = points_te_cat\n"
   ]
  },
  {
   "cell_type": "markdown",
   "metadata": {
    "colab_type": "text",
    "id": "qwimW5pNwVsV"
   },
   "source": [
    "Define training model liberaries and a function for finding best parameters for a model using for Grid Search:"
   ]
  },
  {
   "cell_type": "code",
   "execution_count": 121,
   "metadata": {
    "colab": {},
    "colab_type": "code",
    "id": "Qbir6yUywVsV"
   },
   "outputs": [],
   "source": [
    "import pandas\n",
    "\n",
    "from sklearn import model_selection\n",
    "from sklearn.linear_model import LogisticRegression\n",
    "from sklearn.tree import DecisionTreeClassifier\n",
    "from sklearn.svm import SVC\n",
    "from sklearn.ensemble import RandomForestClassifier, AdaBoostClassifier, VotingClassifier\n",
    "from sklearn.naive_bayes import GaussianNB\n",
    "from sklearn.ensemble import ExtraTreesClassifier\n",
    "from sklearn.model_selection import GridSearchCV\n",
    "#from sklearn.cross_validation import KFold\n",
    "from sklearn.neighbors import KNeighborsClassifier\n",
    "from sklearn.svm import LinearSVC\n",
    "from sklearn.neural_network import MLPClassifier\n",
    "from nltk.classify.scikitlearn import SklearnClassifier\n",
    "\n",
    "pd.options.mode.chained_assignment = None \n",
    "\n",
    "def SearchBestParameters(model, parameters):\n",
    "    y = df[[target]]\n",
    "    #yy = label_binarize(y, classes=[0, 1, 2 , 3, 4])\n",
    "    yy = label_binarize(y, classes=[1, 2, 3 , 5, 8])\n",
    "    n_classes = yy.shape[1]\n",
    "    classifier = OneVsRestClassifier(model)\n",
    "\n",
    "    #gs = GridSearchCV(classifier, parameters, cv=5, scoring='r2') # Using R^2 (coefficient of determination)\n",
    "    gs = GridSearchCV(classifier, parameters, cv=5) # Using R^2 (coefficient of determination)\n",
    "    gs.fit(X_tr, y_tr).decision_function(X_te)    \n",
    "    \n",
    "    #print(classifier.get_params().keys())\n",
    "    model_params = {}\n",
    "    for param in gs.best_params_:\n",
    "        model_param = param.replace(\"estimator__\", \"\")\n",
    "        model_params[model_param] = gs.best_params_[param]\n",
    "    print(type(model).__name__, ': ', model_params, 'with score:', gs.best_score_)\n",
    "    return model_params"
   ]
  },
  {
   "cell_type": "markdown",
   "metadata": {
    "colab_type": "text",
    "id": "zgJl_W74wVsY"
   },
   "source": [
    "Using Grid Search to find the best parameters for `Logistic Regression` classifier:"
   ]
  },
  {
   "cell_type": "code",
   "execution_count": 122,
   "metadata": {
    "colab": {},
    "colab_type": "code",
    "id": "BEkdTzZTwVsZ",
    "outputId": "0958f36a-e279-4694-fc99-482696323545"
   },
   "outputs": [
    {
     "name": "stdout",
     "output_type": "stream",
     "text": [
      "LogisticRegression :  {'C': 1, 'multi_class': 'multinomial', 'solver': 'lbfgs'} with score: 0.4444444444444444\n"
     ]
    }
   ],
   "source": [
    "grid = {\n",
    "    'estimator__C': [0.01, 1, 5, 7],\n",
    "    'estimator__solver': ['newton-cg', 'lbfgs', 'sag', 'saga'],\n",
    "    'estimator__multi_class': ['ovr', 'multinomial']\n",
    "}\n",
    "logistic = LogisticRegression()\n",
    "best_params = SearchBestParameters(logistic, grid)\n",
    "logistic = LogisticRegression(**best_params)   \n",
    "    "
   ]
  },
  {
   "cell_type": "markdown",
   "metadata": {
    "colab_type": "text",
    "id": "N45P8wnpwVsc"
   },
   "source": [
    "Using Grid Search to find the best parameters for `SVC` classifier:"
   ]
  },
  {
   "cell_type": "code",
   "execution_count": 123,
   "metadata": {
    "colab": {},
    "colab_type": "code",
    "id": "z-pGFy5ZwVsd",
    "outputId": "d1761dd8-196a-47b2-93b7-eccc628209c1"
   },
   "outputs": [
    {
     "name": "stdout",
     "output_type": "stream",
     "text": [
      "SVC :  {'C': 0.5, 'kernel': 'linear'} with score: 0.4074074074074074\n"
     ]
    }
   ],
   "source": [
    "grid={\n",
    "    'estimator__C': [0.5, 1, 5, 7],\n",
    "    'estimator__kernel': [ 'linear', 'poly', 'rbf']\n",
    "}\n",
    "svc = SVC(probability=True)\n",
    "best_params = SearchBestParameters(svc, grid)\n",
    "svc = SVC(probability=True, **best_params)"
   ]
  },
  {
   "cell_type": "code",
   "execution_count": 124,
   "metadata": {
    "colab": {},
    "colab_type": "code",
    "id": "iYureF3FwVsh",
    "outputId": "5143781c-1210-46ea-e960-93edb1f72203"
   },
   "outputs": [
    {
     "name": "stdout",
     "output_type": "stream",
     "text": [
      "LinearSVC :  {'C': 3, 'multi_class': 'crammer_singer'} with score: 0.4074074074074074\n"
     ]
    }
   ],
   "source": [
    "grid={\n",
    "    'estimator__C': [3, 5, 7],\n",
    "    'estimator__multi_class': ['ovr', 'crammer_singer'], \n",
    "}\n",
    "linearSVC = LinearSVC()\n",
    "best_params = SearchBestParameters(linearSVC, grid)\n",
    "linearSVC = LinearSVC(**best_params)"
   ]
  },
  {
   "cell_type": "markdown",
   "metadata": {
    "colab_type": "text",
    "id": "acBLhSgYwVsk"
   },
   "source": [
    "Add all models to ensemble and one of good one to Ada Boost classifier:"
   ]
  },
  {
   "cell_type": "code",
   "execution_count": 126,
   "metadata": {
    "colab": {},
    "colab_type": "code",
    "id": "92Rm5WuJwVsk"
   },
   "outputs": [],
   "source": [
    "def create_fibonacci_numbers(size):\n",
    "    fibonacci_numbers = [1, 1]\n",
    "    for i in range(2,size):\n",
    "        fibonacci_numbers.append((fibonacci_numbers[i-1]+fibonacci_numbers[i-2]))\n",
    "\n",
    "    #fibonacci_numbers[0] = 0\n",
    "    fibonacci_numbers = np.delete(fibonacci_numbers, 0)\n",
    "\n",
    "    np.array(map(str, fibonacci_numbers))\n",
    "    fibonacci_numbers = np.array(fibonacci_numbers)\n",
    "    return fibonacci_numbers\n",
    "\n",
    "create_fibonacci_numbers(8)\n",
    "adaBoost = AdaBoostClassifier(logistic)  "
   ]
  },
  {
   "cell_type": "markdown",
   "metadata": {
    "colab_type": "text",
    "id": "6GwWLESlwVsm"
   },
   "source": [
    "Create `score_model` function to draw the classifiers performance:"
   ]
  },
  {
   "cell_type": "code",
   "execution_count": 127,
   "metadata": {
    "colab": {},
    "colab_type": "code",
    "id": "BOmXvKStwVsn"
   },
   "outputs": [],
   "source": [
    "def one_hot_decode(coded):         \n",
    "    decoded = coded.dot(cat_encoder.active_features_).astype(int)\n",
    "    return decoded\n",
    "\n",
    "def display_scores(scores):\n",
    "    print(\"\\033[1mCross Validation Score:\\033[0m \\n\\t{} (+/- {})\".format(round(scores.mean(),2), round(scores.std(),2)))\n"
   ]
  },
  {
   "cell_type": "code",
   "execution_count": 130,
   "metadata": {
    "colab": {},
    "colab_type": "code",
    "id": "72OZFr0UwVso"
   },
   "outputs": [],
   "source": [
    "def F(n):\n",
    "    if n == 0: return 0\n",
    "    elif n == 1: return 1\n",
    "    else: return F(n-1)+F(n-2)\n",
    "    \n",
    "def score_model(model): \n",
    "    print('<< \\033[1m', type(model).__name__, '\\033[0m>>')\n",
    "    # Binarize the output\n",
    "    y = df[[target]]\n",
    "    #classes=[0, 1, 2 , 3, 4]\n",
    "    classes=[1, 2, 3 , 5, 8]\n",
    "    yy = label_binarize(y, classes=classes)\n",
    "    n_classes = yy.shape[1]\n",
    "\n",
    "    classifier = OneVsRestClassifier(model)\n",
    "    \n",
    "    y_score = classifier.fit(X_tr, y_tr).decision_function(X_te) \n",
    "    # plot the roc curve\n",
    "    if hasattr(model, 'predict_proba'):\n",
    "        # Binarize the output\n",
    "        lw=2\n",
    "        fpr = dict()\n",
    "        tpr = dict()\n",
    "        roc_auc = dict()\n",
    "        for i in range(n_classes):\n",
    "            fpr[i], tpr[i], _ = roc_curve(y_te[:, i], y_score[:, i], pos_label=1)\n",
    "            roc_auc[i] = auc(fpr[i], tpr[i])\n",
    "\n",
    "        # Compute macro-average ROC curve and ROC area\n",
    "        # First aggregate all false positive rates\n",
    "        all_fpr = np.unique(np.concatenate([fpr[i] for i in range(n_classes)]))\n",
    "\n",
    "        # Then interpolate all ROC curves at this points\n",
    "        mean_tpr = np.zeros_like(all_fpr)\n",
    "        for i in range(n_classes):\n",
    "            mean_tpr += interp(all_fpr, fpr[i], tpr[i])\n",
    "\n",
    "        # Compute micro-average ROC curve and ROC area\n",
    "        fpr[\"micro\"], tpr[\"micro\"], _ = roc_curve(y_te.ravel(), y_score.ravel(), pos_label=1)\n",
    "        roc_auc[\"micro\"] = auc(fpr[\"micro\"], tpr[\"micro\"])\n",
    "\n",
    "        # Finally average it and compute AUC\n",
    "        mean_tpr /= n_classes\n",
    "\n",
    "        fpr[\"macro\"] = all_fpr\n",
    "        tpr[\"macro\"] = mean_tpr\n",
    "        roc_auc[\"macro\"] = auc(fpr[\"macro\"], tpr[\"macro\"])\n",
    "\n",
    "        # Plot all ROC curves\n",
    "        plt.figure(figsize=(8, 6))\n",
    "        plt.plot(fpr[\"micro\"], tpr[\"micro\"],\n",
    "                 label='micro-average ROC curve (area = {0:0.2f})'\n",
    "                       ''.format(roc_auc[\"micro\"]),\n",
    "                 color='deeppink', linestyle=':', linewidth=4)\n",
    "\n",
    "        plt.plot(fpr[\"macro\"], tpr[\"macro\"],\n",
    "                 label='macro-average ROC curve (area = {0:0.2f})'\n",
    "                       ''.format(roc_auc[\"macro\"]),\n",
    "                 color='navy', linestyle=':', linewidth=4)\n",
    "\n",
    "        colors = cycle(['aqua', 'darkorange', 'cornflowerblue', 'blue', 'red', 'green'])\n",
    "        for i, color in zip(range(n_classes), colors):\n",
    "            plt.plot(fpr[i], tpr[i], color=color, lw=lw,\n",
    "                     label='ROC curve of class {0} (area = {1:0.2f})'\n",
    "                     ''.format(F(i+2), roc_auc[i]))\n",
    "\n",
    "        plt.plot([0, 1], [0, 1], 'k--', lw=lw)\n",
    "        plt.xlim([0.0, 1.0])\n",
    "        plt.ylim([0.0, 1.05])\n",
    "        plt.xlabel('False Positive Rate')\n",
    "        plt.ylabel('True Positive Rate')\n",
    "        plt.legend(loc=\"lower right\")\n",
    "        plt.grid()\n",
    "        plt.xticks(np.arange(0,1.1,0.1))\n",
    "        plt.yticks(np.arange(0,1.1,0.1))\n",
    "        plt.show()\n",
    "\n",
    "    # Test vs prediction scatter plot\n",
    "    y_score_c = classifier.predict(X_te)\n",
    "\n",
    "    decoded_y_te = one_hot_decode(y_te)\n",
    "    decoded_y_score_c = one_hot_decode(y_score_c)\n",
    "    \n",
    "    #print(decoded_y_te.shape)\n",
    "    #print(decoded_y_score_c.shape)\n",
    "    \n",
    "    cm = confusion_matrix(decoded_y_te, decoded_y_score_c)\n",
    "        \n",
    "    df_cm = pd.DataFrame(cm)\n",
    "    xy_lbl = create_fibonacci_numbers(cm.shape[0]+1)    \n",
    "    df_cm.columns = xy_lbl\n",
    "    df_cm = df_cm.set_index(xy_lbl)\n",
    "    \n",
    "    plt.figure(figsize = (7,5))\n",
    "    sns.heatmap(df_cm, annot=True)\n",
    "    plt.show()\n",
    "\n",
    "    # Test and prediction distribution plot\n",
    "    sns.distplot( decoded_y_te )\n",
    "    sns.distplot( decoded_y_score_c )\n",
    "    plt.show()\n",
    "        \n",
    "    # Prediction Score\n",
    "    print('\\033[1mEstimator Score:\\033[0m\\n\\tTraining: ', round(classifier.score(X_tr, y_tr), 2), \n",
    "            '\\n\\tTest : ', round(classifier.score(X_te, y_te),2))\n",
    "\n",
    "    scores = cross_val_score(classifier, X_tr, y_tr,scoring=\"accuracy\", cv=5)\n",
    "\n",
    "    display_scores(scores)\n",
    "    print('_______________________________________________________________________')\n",
    "    return df_cm"
   ]
  },
  {
   "cell_type": "markdown",
   "metadata": {
    "colab_type": "text",
    "id": "ukktRSVtwVsr"
   },
   "source": [
    "Using `score_model` to plot the models accuracy:"
   ]
  },
  {
   "cell_type": "code",
   "execution_count": 131,
   "metadata": {
    "colab": {},
    "colab_type": "code",
    "id": "fx3rLXiiwVsr",
    "outputId": "2b1f4d24-ae63-4f28-8843-2fadf8a94f54",
    "scrolled": false
   },
   "outputs": [
    {
     "name": "stdout",
     "output_type": "stream",
     "text": [
      "<< \u001b[1m LogisticRegression \u001b[0m>>\n"
     ]
    },
    {
     "data": {
      "image/png": "[encoded data removed]",
      "text/plain": [
       "<Figure size 576x432 with 1 Axes>"
      ]
     },
     "metadata": {
      "needs_background": "light"
     },
     "output_type": "display_data"
    },
    {
     "data": {
      "image/png": "[encoded data removed]",
      "text/plain": [
       "<Figure size 504x360 with 2 Axes>"
      ]
     },
     "metadata": {
      "needs_background": "light"
     },
     "output_type": "display_data"
    },
    {
     "data": {
      "image/png": "[encoded data removed]",
      "text/plain": [
       "<Figure size 432x288 with 1 Axes>"
      ]
     },
     "metadata": {
      "needs_background": "light"
     },
     "output_type": "display_data"
    },
    {
     "name": "stdout",
     "output_type": "stream",
     "text": [
      "\u001b[1mEstimator Score:\u001b[0m\n",
      "\tTraining:  0.7 \n",
      "\tTest :  0.42\n",
      "\u001b[1mCross Validation Score:\u001b[0m \n",
      "\t0.45 (+/- 0.12)\n",
      "_______________________________________________________________________\n",
      "<< \u001b[1m SVC \u001b[0m>>\n"
     ]
    },
    {
     "data": {
      "image/png": "[encoded data removed]",
      "text/plain": [
       "<Figure size 576x432 with 1 Axes>"
      ]
     },
     "metadata": {
      "needs_background": "light"
     },
     "output_type": "display_data"
    },
    {
     "data": {
      "image/png": "[encoded data removed]",
      "text/plain": [
       "<Figure size 504x360 with 2 Axes>"
      ]
     },
     "metadata": {
      "needs_background": "light"
     },
     "output_type": "display_data"
    },
    {
     "data": {
      "image/png": "[encoded data removed]",
      "text/plain": [
       "<Figure size 432x288 with 1 Axes>"
      ]
     },
     "metadata": {
      "needs_background": "light"
     },
     "output_type": "display_data"
    },
    {
     "name": "stdout",
     "output_type": "stream",
     "text": [
      "\u001b[1mEstimator Score:\u001b[0m\n",
      "\tTraining:  0.65 \n",
      "\tTest :  0.42\n",
      "\u001b[1mCross Validation Score:\u001b[0m \n",
      "\t0.41 (+/- 0.2)\n",
      "_______________________________________________________________________\n",
      "<< \u001b[1m AdaBoostClassifier \u001b[0m>>\n"
     ]
    },
    {
     "data": {
      "image/png": "[encoded data removed]",
      "text/plain": [
       "<Figure size 576x432 with 1 Axes>"
      ]
     },
     "metadata": {
      "needs_background": "light"
     },
     "output_type": "display_data"
    },
    {
     "data": {
      "image/png": "[encoded data removed]",
      "text/plain": [
       "<Figure size 504x360 with 2 Axes>"
      ]
     },
     "metadata": {
      "needs_background": "light"
     },
     "output_type": "display_data"
    },
    {
     "data": {
      "image/png": "[encoded data removed]",
      "text/plain": [
       "<Figure size 432x288 with 1 Axes>"
      ]
     },
     "metadata": {
      "needs_background": "light"
     },
     "output_type": "display_data"
    },
    {
     "name": "stdout",
     "output_type": "stream",
     "text": [
      "\u001b[1mEstimator Score:\u001b[0m\n",
      "\tTraining:  0.7 \n",
      "\tTest :  0.5\n",
      "\u001b[1mCross Validation Score:\u001b[0m \n",
      "\t0.45 (+/- 0.12)\n",
      "_______________________________________________________________________\n",
      "<< \u001b[1m LinearSVC \u001b[0m>>\n"
     ]
    },
    {
     "data": {
      "image/png": "[encoded data removed]",
      "text/plain": [
       "<Figure size 504x360 with 2 Axes>"
      ]
     },
     "metadata": {
      "needs_background": "light"
     },
     "output_type": "display_data"
    },
    {
     "data": {
      "image/png": "[encoded data removed]",
      "text/plain": [
       "<Figure size 432x288 with 1 Axes>"
      ]
     },
     "metadata": {
      "needs_background": "light"
     },
     "output_type": "display_data"
    },
    {
     "name": "stdout",
     "output_type": "stream",
     "text": [
      "\u001b[1mEstimator Score:\u001b[0m\n",
      "\tTraining:  0.8 \n",
      "\tTest :  0.36\n",
      "\u001b[1mCross Validation Score:\u001b[0m \n",
      "\t0.28 (+/- 0.15)\n",
      "_______________________________________________________________________\n"
     ]
    },
    {
     "data": {
      "text/html": [
       "<div>\n",
       "<style scoped>\n",
       "    .dataframe tbody tr th:only-of-type {\n",
       "        vertical-align: middle;\n",
       "    }\n",
       "\n",
       "    .dataframe tbody tr th {\n",
       "        vertical-align: top;\n",
       "    }\n",
       "\n",
       "    .dataframe thead th {\n",
       "        text-align: right;\n",
       "    }\n",
       "</style>\n",
       "<table border=\"1\" class=\"dataframe\">\n",
       "  <thead>\n",
       "    <tr style=\"text-align: right;\">\n",
       "      <th></th>\n",
       "      <th>1</th>\n",
       "      <th>2</th>\n",
       "      <th>3</th>\n",
       "      <th>5</th>\n",
       "      <th>8</th>\n",
       "      <th>13</th>\n",
       "      <th>21</th>\n",
       "      <th>34</th>\n",
       "      <th>55</th>\n",
       "      <th>89</th>\n",
       "      <th>144</th>\n",
       "    </tr>\n",
       "  </thead>\n",
       "  <tbody>\n",
       "    <tr>\n",
       "      <td>1</td>\n",
       "      <td>0</td>\n",
       "      <td>0</td>\n",
       "      <td>0</td>\n",
       "      <td>0</td>\n",
       "      <td>0</td>\n",
       "      <td>0</td>\n",
       "      <td>0</td>\n",
       "      <td>0</td>\n",
       "      <td>0</td>\n",
       "      <td>0</td>\n",
       "      <td>0</td>\n",
       "    </tr>\n",
       "    <tr>\n",
       "      <td>2</td>\n",
       "      <td>0</td>\n",
       "      <td>0</td>\n",
       "      <td>1</td>\n",
       "      <td>1</td>\n",
       "      <td>0</td>\n",
       "      <td>0</td>\n",
       "      <td>0</td>\n",
       "      <td>0</td>\n",
       "      <td>0</td>\n",
       "      <td>0</td>\n",
       "      <td>0</td>\n",
       "    </tr>\n",
       "    <tr>\n",
       "      <td>3</td>\n",
       "      <td>0</td>\n",
       "      <td>0</td>\n",
       "      <td>3</td>\n",
       "      <td>1</td>\n",
       "      <td>0</td>\n",
       "      <td>0</td>\n",
       "      <td>0</td>\n",
       "      <td>0</td>\n",
       "      <td>0</td>\n",
       "      <td>0</td>\n",
       "      <td>0</td>\n",
       "    </tr>\n",
       "    <tr>\n",
       "      <td>5</td>\n",
       "      <td>3</td>\n",
       "      <td>0</td>\n",
       "      <td>0</td>\n",
       "      <td>8</td>\n",
       "      <td>1</td>\n",
       "      <td>1</td>\n",
       "      <td>0</td>\n",
       "      <td>0</td>\n",
       "      <td>4</td>\n",
       "      <td>0</td>\n",
       "      <td>0</td>\n",
       "    </tr>\n",
       "    <tr>\n",
       "      <td>8</td>\n",
       "      <td>0</td>\n",
       "      <td>0</td>\n",
       "      <td>0</td>\n",
       "      <td>0</td>\n",
       "      <td>0</td>\n",
       "      <td>0</td>\n",
       "      <td>0</td>\n",
       "      <td>0</td>\n",
       "      <td>0</td>\n",
       "      <td>0</td>\n",
       "      <td>0</td>\n",
       "    </tr>\n",
       "    <tr>\n",
       "      <td>13</td>\n",
       "      <td>1</td>\n",
       "      <td>0</td>\n",
       "      <td>2</td>\n",
       "      <td>1</td>\n",
       "      <td>0</td>\n",
       "      <td>0</td>\n",
       "      <td>1</td>\n",
       "      <td>2</td>\n",
       "      <td>0</td>\n",
       "      <td>1</td>\n",
       "      <td>0</td>\n",
       "    </tr>\n",
       "    <tr>\n",
       "      <td>21</td>\n",
       "      <td>0</td>\n",
       "      <td>0</td>\n",
       "      <td>0</td>\n",
       "      <td>0</td>\n",
       "      <td>0</td>\n",
       "      <td>0</td>\n",
       "      <td>0</td>\n",
       "      <td>0</td>\n",
       "      <td>0</td>\n",
       "      <td>0</td>\n",
       "      <td>0</td>\n",
       "    </tr>\n",
       "    <tr>\n",
       "      <td>34</td>\n",
       "      <td>0</td>\n",
       "      <td>0</td>\n",
       "      <td>0</td>\n",
       "      <td>0</td>\n",
       "      <td>0</td>\n",
       "      <td>0</td>\n",
       "      <td>0</td>\n",
       "      <td>2</td>\n",
       "      <td>1</td>\n",
       "      <td>1</td>\n",
       "      <td>1</td>\n",
       "    </tr>\n",
       "    <tr>\n",
       "      <td>55</td>\n",
       "      <td>0</td>\n",
       "      <td>0</td>\n",
       "      <td>0</td>\n",
       "      <td>0</td>\n",
       "      <td>0</td>\n",
       "      <td>0</td>\n",
       "      <td>0</td>\n",
       "      <td>0</td>\n",
       "      <td>0</td>\n",
       "      <td>0</td>\n",
       "      <td>0</td>\n",
       "    </tr>\n",
       "    <tr>\n",
       "      <td>89</td>\n",
       "      <td>0</td>\n",
       "      <td>0</td>\n",
       "      <td>0</td>\n",
       "      <td>0</td>\n",
       "      <td>0</td>\n",
       "      <td>0</td>\n",
       "      <td>0</td>\n",
       "      <td>0</td>\n",
       "      <td>0</td>\n",
       "      <td>0</td>\n",
       "      <td>0</td>\n",
       "    </tr>\n",
       "    <tr>\n",
       "      <td>144</td>\n",
       "      <td>0</td>\n",
       "      <td>0</td>\n",
       "      <td>0</td>\n",
       "      <td>0</td>\n",
       "      <td>0</td>\n",
       "      <td>0</td>\n",
       "      <td>0</td>\n",
       "      <td>0</td>\n",
       "      <td>0</td>\n",
       "      <td>0</td>\n",
       "      <td>0</td>\n",
       "    </tr>\n",
       "  </tbody>\n",
       "</table>\n",
       "</div>"
      ],
      "text/plain": [
       "     1    2    3    5    8    13   21   34   55   89   144\n",
       "1      0    0    0    0    0    0    0    0    0    0    0\n",
       "2      0    0    1    1    0    0    0    0    0    0    0\n",
       "3      0    0    3    1    0    0    0    0    0    0    0\n",
       "5      3    0    0    8    1    1    0    0    4    0    0\n",
       "8      0    0    0    0    0    0    0    0    0    0    0\n",
       "13     1    0    2    1    0    0    1    2    0    1    0\n",
       "21     0    0    0    0    0    0    0    0    0    0    0\n",
       "34     0    0    0    0    0    0    0    2    1    1    1\n",
       "55     0    0    0    0    0    0    0    0    0    0    0\n",
       "89     0    0    0    0    0    0    0    0    0    0    0\n",
       "144    0    0    0    0    0    0    0    0    0    0    0"
      ]
     },
     "execution_count": 131,
     "metadata": {},
     "output_type": "execute_result"
    }
   ],
   "source": [
    "score_model(logistic)\n",
    "score_model(svc)\n",
    "score_model(adaBoost)\n",
    "score_model(linearSVC)"
   ]
  },
  {
   "cell_type": "markdown",
   "metadata": {
    "colab_type": "text",
    "id": "Yt8_i1ITwVsv"
   },
   "source": [
    "### Prediction"
   ]
  },
  {
   "cell_type": "markdown",
   "metadata": {
    "colab_type": "text",
    "id": "qZOXWqDbwVsx"
   },
   "source": [
    "Get the User Story number and predict its size base on the given `Labels`:"
   ]
  },
  {
   "cell_type": "code",
   "execution_count": 132,
   "metadata": {
    "colab": {},
    "colab_type": "code",
    "id": "KNo8sdcUwVsy",
    "outputId": "8f47bf2f-1fb3-4c7c-8927-c6e7e16143cc"
   },
   "outputs": [
    {
     "data": {
      "text/plain": [
       "(0, 27)"
      ]
     },
     "execution_count": 132,
     "metadata": {},
     "output_type": "execute_result"
    }
   ],
   "source": [
    "prediction_df = df.copy()\n",
    "prediction_df = prediction_df.drop(columns=['Index', 'Key', 'Points', 'Summary']).iloc[0:0]\n",
    "prediction_df.shape"
   ]
  },
  {
   "cell_type": "markdown",
   "metadata": {},
   "source": [
    "The following code explains how to connect to Jira issue tracking system to fetch a User Story that is labeled and predict its points based on the labels:"
   ]
  },
  {
   "cell_type": "code",
   "execution_count": 139,
   "metadata": {
    "colab": {},
    "colab_type": "code",
    "id": "H04_KJgQwVs3"
   },
   "outputs": [],
   "source": [
    "userName = 'user1@company.com' \n",
    "password = getpass.getpass(prompt='Username: '+userName+'\\r\\nPassword: ')\n",
    "\n",
    "auth_jira = JIRA(server = 'https://company.atlassian.net', auth=( userName, password ))\n",
    "\n",
    "#story = input( \"User Story # ILX-\")\n",
    "#story = '8397'  original estimated points 3pts    \n",
    "#story = '10559' original estimated points 2pts\n",
    "#story = '9885'  original estimated points 8pts\n",
    "\n",
    "issue = auth_jira.issue('ILX-'+story)\n",
    "print('Predicting points for \\033[1m\\033[94m`',issue.fields.summary ,'`\\033[0m User Story.')"
   ]
  },
  {
   "cell_type": "markdown",
   "metadata": {
    "colab_type": "text",
    "id": "rOxkvPE0wVs5"
   },
   "source": [
    "Prepare the input data for prediction:"
   ]
  },
  {
   "cell_type": "code",
   "execution_count": 140,
   "metadata": {
    "colab": {},
    "colab_type": "code",
    "id": "2ZBDt05pwVs6"
   },
   "outputs": [],
   "source": [
    "for column in prediction_df.columns:\n",
    "    prediction_df.loc[0, column] = 0\n",
    "    for label in issue.fields.labels:\n",
    "        prediction_df.loc[0, label] = 1\n",
    "\n",
    "print('Manual prediction was:\\033[1m\\033[94m', issue.fields.customfield_10049,'\\033[0m')\n"
   ]
  },
  {
   "cell_type": "markdown",
   "metadata": {
    "colab_type": "text",
    "id": "xJdDOad5wVs9"
   },
   "source": [
    "Create predict points function to use various models for prediction:"
   ]
  },
  {
   "cell_type": "code",
   "execution_count": 135,
   "metadata": {
    "colab": {},
    "colab_type": "code",
    "id": "hTz8GVgowVs-"
   },
   "outputs": [],
   "source": [
    "import operator\n",
    "\n",
    "def predict_points(model, input_df): \n",
    "    classifier = OneVsRestClassifier(model)\n",
    "    classifier.fit(X_tr, y_tr)\n",
    "    predict = classifier.predict(prediction_df)\n",
    "    if hasattr(model, 'predict_proba'):\n",
    "        predict_prop = classifier.predict_proba(prediction_df)\n",
    "        prediction = one_hot_decode(predict[0])\n",
    "        index, value = max(enumerate(predict_prop[0]), key=operator.itemgetter(1))\n",
    "        print('\\033[1m',type(model).__name__, '\\033[0mprediction is\\033[1m\\033[94m', \n",
    "            F(index+2), '\\033[0mpoints with\\033[1m\\033[94m', round(value,2)*100,'%\\033[0m probability')\n",
    "    else:\n",
    "        prediction = one_hot_decode(predict[0])\n",
    "        print('\\033[1m',type(model).__name__, '\\033[0mprediction is\\033[1m\\033[94m', \n",
    "            prediction, '\\033[0mpoints')\n"
   ]
  },
  {
   "cell_type": "markdown",
   "metadata": {
    "colab_type": "text",
    "id": "LhlkhUPmwVtA"
   },
   "source": [
    "Predict using various prediction models:"
   ]
  },
  {
   "cell_type": "code",
   "execution_count": 0,
   "metadata": {
    "colab": {},
    "colab_type": "code",
    "id": "IpZoLGo9wVtB",
    "outputId": "4b130c77-16af-4032-d9e9-c2044fc8a7ba"
   },
   "outputs": [
    {
     "name": "stdout",
     "output_type": "stream",
     "text": [
      "\u001b[1m LogisticRegression \u001b[0mprediction is\u001b[1m\u001b[94m 3 \u001b[0mpoints with\u001b[1m\u001b[94m 43.0 %\u001b[0m probability\n",
      "\u001b[1m SVC \u001b[0mprediction is\u001b[1m\u001b[94m 3 \u001b[0mpoints with\u001b[1m\u001b[94m 36.0 %\u001b[0m probability\n",
      "\u001b[1m LinearSVC \u001b[0mprediction is\u001b[1m\u001b[94m 0 \u001b[0mpoints\n",
      "\u001b[1m AdaBoostClassifier \u001b[0mprediction is\u001b[1m\u001b[94m 3 \u001b[0mpoints with\u001b[1m\u001b[94m 50.0 %\u001b[0m probability\n"
     ]
    }
   ],
   "source": [
    "predict_points(logistic, prediction_df)\n",
    "predict_points(svc, prediction_df)\n",
    "predict_points(linearSVC, prediction_df)\n",
    "predict_points(adaBoost, prediction_df)\n"
   ]
  },
  {
   "cell_type": "code",
   "execution_count": 0,
   "metadata": {
    "colab": {},
    "colab_type": "code",
    "id": "q8QAGeopwVtD"
   },
   "outputs": [],
   "source": []
  },
  {
   "cell_type": "markdown",
   "metadata": {
    "colab_type": "text",
    "id": "95yB6m7MwVtF"
   },
   "source": [
    "### Conclusion"
   ]
  },
  {
   "cell_type": "markdown",
   "metadata": {
    "colab_type": "text",
    "id": "kQTWRhniwVtG"
   },
   "source": [
    " - VotingClassifier, GaussianNB and SVC seems to perform very well\n",
    " - The data is not well defined and dimension could be reduced\n",
    " - There could be weightage for each Label to make prediction more accurate\n",
    " - Not enough data defined"
   ]
  },
  {
   "cell_type": "code",
   "execution_count": 0,
   "metadata": {
    "colab": {},
    "colab_type": "code",
    "id": "0u6NPVzdwVtG"
   },
   "outputs": [],
   "source": [
    "\n"
   ]
  }
 ],
 "metadata": {
  "colab": {
   "collapsed_sections": [],
   "name": "Copy of Ansari Jaberi Software Effort Estimation",
   "provenance": []
  },
  "kernelspec": {
   "display_name": "Python 3",
   "language": "python",
   "name": "python3"
  },
  "language_info": {
   "codemirror_mode": {
    "name": "ipython",
    "version": 3
   },
   "file_extension": ".py",
   "mimetype": "text/x-python",
   "name": "python",
   "nbconvert_exporter": "python",
   "pygments_lexer": "ipython3",
   "version": "3.7.4"
  }
 },
 "nbformat": 4,
 "nbformat_minor": 1
}
